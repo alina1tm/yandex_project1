{
 "cells": [
  {
   "cell_type": "markdown",
   "metadata": {},
   "source": [
    "# Исследование надёжности заёмщиков"
   ]
  },
  {
   "cell_type": "code",
   "execution_count": null,
   "metadata": {},
   "outputs": [],
   "source": [
    "import pandas as pd"
   ]
  },
  {
   "cell_type": "code",
   "execution_count": 4,
   "metadata": {
    "scrolled": true
   },
   "outputs": [
    {
     "data": {
      "text/html": [
       "<div>\n",
       "<style scoped>\n",
       "    .dataframe tbody tr th:only-of-type {\n",
       "        vertical-align: middle;\n",
       "    }\n",
       "\n",
       "    .dataframe tbody tr th {\n",
       "        vertical-align: top;\n",
       "    }\n",
       "\n",
       "    .dataframe thead th {\n",
       "        text-align: right;\n",
       "    }\n",
       "</style>\n",
       "<table border=\"1\" class=\"dataframe\">\n",
       "  <thead>\n",
       "    <tr style=\"text-align: right;\">\n",
       "      <th></th>\n",
       "      <th>children</th>\n",
       "      <th>days_employed</th>\n",
       "      <th>dob_years</th>\n",
       "      <th>education_id</th>\n",
       "      <th>family_status_id</th>\n",
       "      <th>debt</th>\n",
       "      <th>total_income</th>\n",
       "    </tr>\n",
       "  </thead>\n",
       "  <tbody>\n",
       "    <tr>\n",
       "      <th>count</th>\n",
       "      <td>21525.000000</td>\n",
       "      <td>19351.000000</td>\n",
       "      <td>21525.000000</td>\n",
       "      <td>21525.000000</td>\n",
       "      <td>21525.000000</td>\n",
       "      <td>21525.000000</td>\n",
       "      <td>1.935100e+04</td>\n",
       "    </tr>\n",
       "    <tr>\n",
       "      <th>mean</th>\n",
       "      <td>0.538908</td>\n",
       "      <td>63046.497661</td>\n",
       "      <td>43.293380</td>\n",
       "      <td>0.817236</td>\n",
       "      <td>0.972544</td>\n",
       "      <td>0.080883</td>\n",
       "      <td>1.674223e+05</td>\n",
       "    </tr>\n",
       "    <tr>\n",
       "      <th>std</th>\n",
       "      <td>1.381587</td>\n",
       "      <td>140827.311974</td>\n",
       "      <td>12.574584</td>\n",
       "      <td>0.548138</td>\n",
       "      <td>1.420324</td>\n",
       "      <td>0.272661</td>\n",
       "      <td>1.029716e+05</td>\n",
       "    </tr>\n",
       "    <tr>\n",
       "      <th>min</th>\n",
       "      <td>-1.000000</td>\n",
       "      <td>-18388.949901</td>\n",
       "      <td>0.000000</td>\n",
       "      <td>0.000000</td>\n",
       "      <td>0.000000</td>\n",
       "      <td>0.000000</td>\n",
       "      <td>2.066726e+04</td>\n",
       "    </tr>\n",
       "    <tr>\n",
       "      <th>25%</th>\n",
       "      <td>0.000000</td>\n",
       "      <td>-2747.423625</td>\n",
       "      <td>33.000000</td>\n",
       "      <td>1.000000</td>\n",
       "      <td>0.000000</td>\n",
       "      <td>0.000000</td>\n",
       "      <td>1.030532e+05</td>\n",
       "    </tr>\n",
       "    <tr>\n",
       "      <th>50%</th>\n",
       "      <td>0.000000</td>\n",
       "      <td>-1203.369529</td>\n",
       "      <td>42.000000</td>\n",
       "      <td>1.000000</td>\n",
       "      <td>0.000000</td>\n",
       "      <td>0.000000</td>\n",
       "      <td>1.450179e+05</td>\n",
       "    </tr>\n",
       "    <tr>\n",
       "      <th>75%</th>\n",
       "      <td>1.000000</td>\n",
       "      <td>-291.095954</td>\n",
       "      <td>53.000000</td>\n",
       "      <td>1.000000</td>\n",
       "      <td>1.000000</td>\n",
       "      <td>0.000000</td>\n",
       "      <td>2.034351e+05</td>\n",
       "    </tr>\n",
       "    <tr>\n",
       "      <th>max</th>\n",
       "      <td>20.000000</td>\n",
       "      <td>401755.400475</td>\n",
       "      <td>75.000000</td>\n",
       "      <td>4.000000</td>\n",
       "      <td>4.000000</td>\n",
       "      <td>1.000000</td>\n",
       "      <td>2.265604e+06</td>\n",
       "    </tr>\n",
       "  </tbody>\n",
       "</table>\n",
       "</div>"
      ],
      "text/plain": [
       "           children  days_employed     dob_years  education_id  \\\n",
       "count  21525.000000   19351.000000  21525.000000  21525.000000   \n",
       "mean       0.538908   63046.497661     43.293380      0.817236   \n",
       "std        1.381587  140827.311974     12.574584      0.548138   \n",
       "min       -1.000000  -18388.949901      0.000000      0.000000   \n",
       "25%        0.000000   -2747.423625     33.000000      1.000000   \n",
       "50%        0.000000   -1203.369529     42.000000      1.000000   \n",
       "75%        1.000000    -291.095954     53.000000      1.000000   \n",
       "max       20.000000  401755.400475     75.000000      4.000000   \n",
       "\n",
       "       family_status_id          debt  total_income  \n",
       "count      21525.000000  21525.000000  1.935100e+04  \n",
       "mean           0.972544      0.080883  1.674223e+05  \n",
       "std            1.420324      0.272661  1.029716e+05  \n",
       "min            0.000000      0.000000  2.066726e+04  \n",
       "25%            0.000000      0.000000  1.030532e+05  \n",
       "50%            0.000000      0.000000  1.450179e+05  \n",
       "75%            1.000000      0.000000  2.034351e+05  \n",
       "max            4.000000      1.000000  2.265604e+06  "
      ]
     },
     "metadata": {},
     "output_type": "display_data"
    }
   ],
   "source": [
    "data = pd.read_csv('data.csv')\n",
    "display(data.describe())"
   ]
  },
  {
   "cell_type": "markdown",
   "metadata": {},
   "source": [
    "\n",
    "**Описание данных:**\n",
    " * children — количество детей в семье;\n",
    " * days_employed — общий трудовой стаж в днях;\n",
    " * dob_years — возраст клиента в годах;\n",
    " * education — уровень образования клиента;\n",
    " * education_id — идентификатор уровня образования;\n",
    " * family_status — семейное положение;\n",
    " * family_status_id — идентификатор семейного положения;\n",
    " * gender — пол клиента;\n",
    " * income_type — тип занятости;\n",
    " * debt — имел ли задолженность по возврату кредитов;\n",
    " * total_income — ежемесячный доход;\n",
    " * purpose — цель получения кредита.\n"
   ]
  },
  {
   "cell_type": "markdown",
   "metadata": {},
   "source": [
    "## Предобработка данных"
   ]
  },
  {
   "cell_type": "markdown",
   "metadata": {},
   "source": [
    "1. Определить и заполнить пропущенные значения.\n",
    "2. Заменить вещественный тип данных на целочисленный.\n",
    "3. Удалить дубликаты.\n",
    "4. Выделить леммы в значениях столбца с целями получения кредита.\n",
    "5. Категоризировать данные."
   ]
  },
  {
   "cell_type": "code",
   "execution_count": 4,
   "metadata": {},
   "outputs": [
    {
     "data": {
      "text/plain": [
       "children               0\n",
       "days_employed       2174\n",
       "dob_years              0\n",
       "education              0\n",
       "education_id           0\n",
       "family_status          0\n",
       "family_status_id       0\n",
       "gender                 0\n",
       "income_type            0\n",
       "debt                   0\n",
       "total_income        2174\n",
       "purpose                0\n",
       "dtype: int64"
      ]
     },
     "execution_count": 4,
     "metadata": {},
     "output_type": "execute_result"
    }
   ],
   "source": [
    "data.isna().sum() #Количество пропусков"
   ]
  },
  {
   "cell_type": "markdown",
   "metadata": {},
   "source": [
    "В данных присутствуют артефакты — значения, которые не отражают действительность. Например, отрицательное количество дней трудового стажа и количество детей. Минусы перед числом могли появиться в результате ошибки в процессе заполнения данных, поэтому необходимо сделать значения столбцов 'children' и 'days_employed' положительными."
   ]
  },
  {
   "cell_type": "code",
   "execution_count": 5,
   "metadata": {},
   "outputs": [],
   "source": [
    "data['children'] = data['children'].apply(abs)\n",
    "data['days_employed'] = data['days_employed'].apply(abs)"
   ]
  },
  {
   "cell_type": "markdown",
   "metadata": {},
   "source": [
    "Также в общей информации о данных можно заметить, что минимальное значение для столбца 'dob_years' - возраст клиента в годах - равно нулю. "
   ]
  },
  {
   "cell_type": "code",
   "execution_count": 6,
   "metadata": {},
   "outputs": [
    {
     "name": "stdout",
     "output_type": "stream",
     "text": [
      "101\n"
     ]
    }
   ],
   "source": [
    "print(data[data['dob_years'] == 0]['dob_years'].count()) #Количество нулей, указанных в столбце 'возраст'"
   ]
  },
  {
   "cell_type": "markdown",
   "metadata": {},
   "source": [
    "Так как возраст клиентов это количественная переменная, можно заполнить пропущенные значения медианным."
   ]
  },
  {
   "cell_type": "code",
   "execution_count": 7,
   "metadata": {},
   "outputs": [
    {
     "data": {
      "text/html": [
       "<div>\n",
       "<style scoped>\n",
       "    .dataframe tbody tr th:only-of-type {\n",
       "        vertical-align: middle;\n",
       "    }\n",
       "\n",
       "    .dataframe tbody tr th {\n",
       "        vertical-align: top;\n",
       "    }\n",
       "\n",
       "    .dataframe thead th {\n",
       "        text-align: right;\n",
       "    }\n",
       "</style>\n",
       "<table border=\"1\" class=\"dataframe\">\n",
       "  <thead>\n",
       "    <tr style=\"text-align: right;\">\n",
       "      <th></th>\n",
       "      <th>children</th>\n",
       "      <th>days_employed</th>\n",
       "      <th>dob_years</th>\n",
       "      <th>education_id</th>\n",
       "      <th>family_status_id</th>\n",
       "      <th>debt</th>\n",
       "      <th>total_income</th>\n",
       "    </tr>\n",
       "  </thead>\n",
       "  <tbody>\n",
       "    <tr>\n",
       "      <td>count</td>\n",
       "      <td>21525.000000</td>\n",
       "      <td>19351.000000</td>\n",
       "      <td>21525.000000</td>\n",
       "      <td>21525.000000</td>\n",
       "      <td>21525.000000</td>\n",
       "      <td>21525.000000</td>\n",
       "      <td>1.935100e+04</td>\n",
       "    </tr>\n",
       "    <tr>\n",
       "      <td>mean</td>\n",
       "      <td>0.543275</td>\n",
       "      <td>66914.728907</td>\n",
       "      <td>43.495145</td>\n",
       "      <td>0.817236</td>\n",
       "      <td>0.972544</td>\n",
       "      <td>0.080883</td>\n",
       "      <td>1.674223e+05</td>\n",
       "    </tr>\n",
       "    <tr>\n",
       "      <td>std</td>\n",
       "      <td>1.379876</td>\n",
       "      <td>139030.880527</td>\n",
       "      <td>12.218213</td>\n",
       "      <td>0.548138</td>\n",
       "      <td>1.420324</td>\n",
       "      <td>0.272661</td>\n",
       "      <td>1.029716e+05</td>\n",
       "    </tr>\n",
       "    <tr>\n",
       "      <td>min</td>\n",
       "      <td>0.000000</td>\n",
       "      <td>24.141633</td>\n",
       "      <td>19.000000</td>\n",
       "      <td>0.000000</td>\n",
       "      <td>0.000000</td>\n",
       "      <td>0.000000</td>\n",
       "      <td>2.066726e+04</td>\n",
       "    </tr>\n",
       "    <tr>\n",
       "      <td>25%</td>\n",
       "      <td>0.000000</td>\n",
       "      <td>927.009265</td>\n",
       "      <td>34.000000</td>\n",
       "      <td>1.000000</td>\n",
       "      <td>0.000000</td>\n",
       "      <td>0.000000</td>\n",
       "      <td>1.030532e+05</td>\n",
       "    </tr>\n",
       "    <tr>\n",
       "      <td>50%</td>\n",
       "      <td>0.000000</td>\n",
       "      <td>2194.220567</td>\n",
       "      <td>43.000000</td>\n",
       "      <td>1.000000</td>\n",
       "      <td>0.000000</td>\n",
       "      <td>0.000000</td>\n",
       "      <td>1.450179e+05</td>\n",
       "    </tr>\n",
       "    <tr>\n",
       "      <td>75%</td>\n",
       "      <td>1.000000</td>\n",
       "      <td>5537.882441</td>\n",
       "      <td>53.000000</td>\n",
       "      <td>1.000000</td>\n",
       "      <td>1.000000</td>\n",
       "      <td>0.000000</td>\n",
       "      <td>2.034351e+05</td>\n",
       "    </tr>\n",
       "    <tr>\n",
       "      <td>max</td>\n",
       "      <td>20.000000</td>\n",
       "      <td>401755.400475</td>\n",
       "      <td>75.000000</td>\n",
       "      <td>4.000000</td>\n",
       "      <td>4.000000</td>\n",
       "      <td>1.000000</td>\n",
       "      <td>2.265604e+06</td>\n",
       "    </tr>\n",
       "  </tbody>\n",
       "</table>\n",
       "</div>"
      ],
      "text/plain": [
       "           children  days_employed     dob_years  education_id  \\\n",
       "count  21525.000000   19351.000000  21525.000000  21525.000000   \n",
       "mean       0.543275   66914.728907     43.495145      0.817236   \n",
       "std        1.379876  139030.880527     12.218213      0.548138   \n",
       "min        0.000000      24.141633     19.000000      0.000000   \n",
       "25%        0.000000     927.009265     34.000000      1.000000   \n",
       "50%        0.000000    2194.220567     43.000000      1.000000   \n",
       "75%        1.000000    5537.882441     53.000000      1.000000   \n",
       "max       20.000000  401755.400475     75.000000      4.000000   \n",
       "\n",
       "       family_status_id          debt  total_income  \n",
       "count      21525.000000  21525.000000  1.935100e+04  \n",
       "mean           0.972544      0.080883  1.674223e+05  \n",
       "std            1.420324      0.272661  1.029716e+05  \n",
       "min            0.000000      0.000000  2.066726e+04  \n",
       "25%            0.000000      0.000000  1.030532e+05  \n",
       "50%            0.000000      0.000000  1.450179e+05  \n",
       "75%            1.000000      0.000000  2.034351e+05  \n",
       "max            4.000000      1.000000  2.265604e+06  "
      ]
     },
     "metadata": {},
     "output_type": "display_data"
    }
   ],
   "source": [
    "dob_years_median = data.loc[data['dob_years'] != 0]['dob_years'].median() #подсчет медианного значения без учета нулей\n",
    "data.loc[data['dob_years'] == 0 ,'dob_years'] = dob_years_median #заполнение нулевых значений медианными\n",
    "display(data.describe())"
   ]
  },
  {
   "cell_type": "markdown",
   "metadata": {},
   "source": [
    "Пропуски присутствуют в значениях столбцов 'days_employed' и 'total_income'.\n",
    "Причиной пропусков значений в этих столбцах мог стать тот факт, что у клиентов банка отсутствует трудовой стаж или официальный доход. \n",
    "\n",
    "Стаж и доход - количественные переменные. Если сделать предположение, что уровень дохода зависит от типа занятости, то пропущенные значения можно заполнить медианным значением для каждой группы по типу занятости."
   ]
  },
  {
   "cell_type": "code",
   "execution_count": 8,
   "metadata": {
    "scrolled": true
   },
   "outputs": [
    {
     "data": {
      "text/plain": [
       "children            0\n",
       "days_employed       0\n",
       "dob_years           0\n",
       "education           0\n",
       "education_id        0\n",
       "family_status       0\n",
       "family_status_id    0\n",
       "gender              0\n",
       "income_type         0\n",
       "debt                0\n",
       "total_income        0\n",
       "purpose             0\n",
       "dtype: int64"
      ]
     },
     "execution_count": 8,
     "metadata": {},
     "output_type": "execute_result"
    }
   ],
   "source": [
    "groups = data['income_type'].unique()\n",
    "median_total_income = data.groupby('income_type')['total_income'].median()\n",
    "median_days_employed = data.groupby('income_type')['days_employed'].median()\n",
    "\n",
    "for group in groups:\n",
    "    data.loc[(data['income_type']==group) & (data['total_income'].isna()), 'total_income'] = median_total_income[group]\n",
    "    data.loc[(data['income_type']==group) & (data['days_employed'].isna()), 'days_employed'] = median_days_employed[group]\n",
    "\n",
    "data.isna().sum() #Проверка заполнения пропусков"
   ]
  },
  {
   "cell_type": "code",
   "execution_count": 9,
   "metadata": {},
   "outputs": [
    {
     "data": {
      "text/plain": [
       "children              int64\n",
       "days_employed       float64\n",
       "dob_years           float64\n",
       "education            object\n",
       "education_id          int64\n",
       "family_status        object\n",
       "family_status_id      int64\n",
       "gender               object\n",
       "income_type          object\n",
       "debt                  int64\n",
       "total_income        float64\n",
       "purpose              object\n",
       "dtype: object"
      ]
     },
     "execution_count": 9,
     "metadata": {},
     "output_type": "execute_result"
    }
   ],
   "source": [
    "data.dtypes"
   ]
  },
  {
   "cell_type": "markdown",
   "metadata": {},
   "source": [
    "Столбцы 'children', 'days_employed', 'dob_years', 'education_id', 'family_status_id', 'debt', исходя из описания данных, принимают только целочисленные значения. Поэтому необходимо изменить тип данных в этих колонках с 'float64' на 'int'."
   ]
  },
  {
   "cell_type": "code",
   "execution_count": 10,
   "metadata": {},
   "outputs": [
    {
     "data": {
      "text/plain": [
       "children              int64\n",
       "days_employed         int64\n",
       "dob_years             int64\n",
       "education            object\n",
       "education_id          int64\n",
       "family_status        object\n",
       "family_status_id      int64\n",
       "gender               object\n",
       "income_type          object\n",
       "debt                  int64\n",
       "total_income        float64\n",
       "purpose              object\n",
       "dtype: object"
      ]
     },
     "metadata": {},
     "output_type": "display_data"
    }
   ],
   "source": [
    "columns = [ 'children','days_employed','dob_years','education_id','family_status_id','debt']\n",
    "for column in columns:\n",
    "    data[column] = data[column].astype(int)\n",
    "display(data.dtypes)"
   ]
  },
  {
   "cell_type": "code",
   "execution_count": 11,
   "metadata": {},
   "outputs": [
    {
     "data": {
      "text/plain": [
       "54"
      ]
     },
     "execution_count": 11,
     "metadata": {},
     "output_type": "execute_result"
    }
   ],
   "source": [
    "data.duplicated().sum() #подсчет количества строк-дубликатов"
   ]
  },
  {
   "cell_type": "markdown",
   "metadata": {},
   "source": [
    "В данных присутствует 54 строки-дубликата. Они могли появиться в результате ошибки заполнения данных сотрудниками банка, или, например, один и тот же клиент мог обратиться в банк для получения кредита несколько раз. В течение этого периода его трудовой стаж, уровень дохода и семейное положение могли не измениться, вследствие чего одинаковые данные о нем могли быть учтены повторно."
   ]
  },
  {
   "cell_type": "code",
   "execution_count": 12,
   "metadata": {},
   "outputs": [
    {
     "data": {
      "text/plain": [
       "0"
      ]
     },
     "metadata": {},
     "output_type": "display_data"
    }
   ],
   "source": [
    "data = data.drop_duplicates().reset_index(drop = True)\n",
    "display(data.duplicated().sum())"
   ]
  },
  {
   "cell_type": "markdown",
   "metadata": {},
   "source": [
    "Необходимо рассмотреть, какие цели получения кредита присутствуют в данных и как распределяется частота их упоминания."
   ]
  },
  {
   "cell_type": "code",
   "execution_count": 13,
   "metadata": {
    "scrolled": false
   },
   "outputs": [
    {
     "data": {
      "text/plain": [
       "свадьба                                   793\n",
       "на проведение свадьбы                     773\n",
       "сыграть свадьбу                           769\n",
       "операции с недвижимостью                  675\n",
       "покупка коммерческой недвижимости         662\n",
       "операции с жильем                         652\n",
       "покупка жилья для сдачи                   652\n",
       "операции с коммерческой недвижимостью     650\n",
       "покупка жилья                             646\n",
       "жилье                                     646\n",
       "покупка жилья для семьи                   638\n",
       "строительство собственной недвижимости    635\n",
       "недвижимость                              633\n",
       "операции со своей недвижимостью           627\n",
       "строительство жилой недвижимости          625\n",
       "покупка недвижимости                      621\n",
       "покупка своего жилья                      620\n",
       "строительство недвижимости                619\n",
       "ремонт жилью                              607\n",
       "покупка жилой недвижимости                606\n",
       "на покупку своего автомобиля              505\n",
       "заняться высшим образованием              496\n",
       "автомобиль                                494\n",
       "сделка с подержанным автомобилем          486\n",
       "свой автомобиль                           479\n",
       "автомобили                                478\n",
       "на покупку подержанного автомобиля        478\n",
       "на покупку автомобиля                     472\n",
       "приобретение автомобиля                   461\n",
       "дополнительное образование                460\n",
       "сделка с автомобилем                      455\n",
       "высшее образование                        452\n",
       "образование                               447\n",
       "получение дополнительного образования     447\n",
       "получение образования                     442\n",
       "профильное образование                    436\n",
       "получение высшего образования             426\n",
       "заняться образованием                     408\n",
       "Name: purpose, dtype: int64"
      ]
     },
     "execution_count": 13,
     "metadata": {},
     "output_type": "execute_result"
    }
   ],
   "source": [
    "data['purpose'].value_counts()"
   ]
  },
  {
   "cell_type": "markdown",
   "metadata": {},
   "source": [
    "Можно выделить несколько причин, по которым люди берут кредит, но в данных они представлены с помощью разных формулировок, что затрудняет анализ. Поэтому нужно произвести лемматизацию столбца 'purpose' с помощью метода Mystem библиотеки pymystem3. Функция 'lem' производит лемматизацию каждой строки столбца 'purpose' и возвращает название одной из 4 категорий: жилье, образование, свадьба или автомобиль. "
   ]
  },
  {
   "cell_type": "code",
   "execution_count": 14,
   "metadata": {
    "scrolled": true
   },
   "outputs": [
    {
     "data": {
      "text/plain": [
       "0              жилье\n",
       "1         автомобиль\n",
       "2              жилье\n",
       "3        образование\n",
       "4            свадьба\n",
       "            ...     \n",
       "21466          жилье\n",
       "21467     автомобиль\n",
       "21468          жилье\n",
       "21469     автомобиль\n",
       "21470     автомобиль\n",
       "Name: purpose, Length: 21471, dtype: object"
      ]
     },
     "metadata": {},
     "output_type": "display_data"
    }
   ],
   "source": [
    "from pymystem3 import Mystem\n",
    "m = Mystem()\n",
    "\n",
    "def lem(row):\n",
    "    lem_purpose = m.lemmatize(row['purpose'])\n",
    "    if 'жилье' in lem_purpose or 'жильё' in lem_purpose or 'недвижимость' in lem_purpose or 'квартира' in lem_purpose:\n",
    "        return 'жилье'\n",
    "    elif 'образование' in lem_purpose:\n",
    "        return 'образование'\n",
    "    elif 'свадьба' in lem_purpose:\n",
    "        return 'свадьба'\n",
    "    elif 'авто' in lem_purpose or 'автомобиль' in lem_purpose:\n",
    "        return 'автомобиль'\n",
    "\n",
    "data['purpose'] = data.apply(lem, axis = 1)\n",
    "display(data['purpose'])"
   ]
  },
  {
   "cell_type": "markdown",
   "metadata": {},
   "source": [
    "В таблице присутствуют две пары столбцов, которые отображают одинаковые данные и могут быть вынесены в отдельные таблицы: 'family_status_id' и 'family_status', 'education_id' и 'education'. Создание дополнительных таблиц производится с помощью извлечения необходимых столбцов из главной таблицы и использования методов drop_duplicates и reset_index."
   ]
  },
  {
   "cell_type": "code",
   "execution_count": 15,
   "metadata": {
    "scrolled": true
   },
   "outputs": [
    {
     "name": "stdout",
     "output_type": "stream",
     "text": [
      "   family_status_id          family_status\n",
      "0                 0        женат / замужем\n",
      "1                 1       гражданский брак\n",
      "2                 2         вдовец / вдова\n",
      "3                 3              в разводе\n",
      "4                 4  Не женат / не замужем\n"
     ]
    }
   ],
   "source": [
    "family_status_table = data[['family_status_id','family_status']].drop_duplicates().reset_index(drop = True)\n",
    "print(family_status_table) "
   ]
  },
  {
   "cell_type": "code",
   "execution_count": 16,
   "metadata": {
    "scrolled": true
   },
   "outputs": [
    {
     "name": "stdout",
     "output_type": "stream",
     "text": [
      "   education_id            education\n",
      "0             0               высшее\n",
      "1             1              среднее\n",
      "2             2  неоконченное высшее\n",
      "3             3            начальное\n",
      "4             4       ученая степень\n"
     ]
    }
   ],
   "source": [
    "education_table = data.loc[:,['education_id','education']]\n",
    "education_table['education'] = education_table['education'].str.lower()\n",
    "education_table  = education_table.drop_duplicates().reset_index(drop = True)\n",
    "print(education_table) "
   ]
  },
  {
   "cell_type": "code",
   "execution_count": 17,
   "metadata": {},
   "outputs": [
    {
     "data": {
      "text/plain": [
       "Index(['children', 'days_employed', 'dob_years', 'education_id',\n",
       "       'family_status_id', 'gender', 'income_type', 'debt', 'total_income',\n",
       "       'purpose'],\n",
       "      dtype='object')"
      ]
     },
     "metadata": {},
     "output_type": "display_data"
    }
   ],
   "source": [
    "data = data.drop(columns = ['education','family_status'])\n",
    "display(data.columns)"
   ]
  },
  {
   "cell_type": "markdown",
   "metadata": {},
   "source": [
    "Также для дальнейшего анализа необходимо разделить клиентов на группы по уровню дохода. Для этого нужно оценить диапазон значений столбца 'total_income'."
   ]
  },
  {
   "cell_type": "code",
   "execution_count": 18,
   "metadata": {},
   "outputs": [
    {
     "name": "stdout",
     "output_type": "stream",
     "text": [
      "165295.8877638656\n",
      "142594.39684740017\n",
      "2265604.028722744\n"
     ]
    }
   ],
   "source": [
    "print(data['total_income'].mean())\n",
    "print(data['total_income'].median())\n",
    "print(data['total_income'].max())"
   ]
  },
  {
   "cell_type": "markdown",
   "metadata": {},
   "source": [
    "Можно выделить группы: близкий к медианному доходу, ниже медианного и выше медианного. Далее производится категоризация c помощью функции income_level."
   ]
  },
  {
   "cell_type": "code",
   "execution_count": 19,
   "metadata": {
    "scrolled": true
   },
   "outputs": [
    {
     "data": {
      "text/plain": [
       "0        высокий\n",
       "1        средний\n",
       "2        средний\n",
       "3        высокий\n",
       "4        средний\n",
       "          ...   \n",
       "21466    высокий\n",
       "21467    средний\n",
       "21468    средний\n",
       "21469    высокий\n",
       "21470    средний\n",
       "Name: total_income_id, Length: 21471, dtype: object"
      ]
     },
     "metadata": {},
     "output_type": "display_data"
    }
   ],
   "source": [
    "median_income_low = data['total_income'].median() - (data['total_income'].median())/2\n",
    "median_income_high = data['total_income'].median() + (data['total_income'].median())/2\n",
    "\n",
    "def income_level(row):\n",
    "    if row['total_income'] < median_income_low:\n",
    "        return 'ниже среднего'\n",
    "    elif median_income_low <= row['total_income'] <= median_income_high:\n",
    "        return 'средний'\n",
    "    elif row['total_income'] > median_income_high:\n",
    "        return 'высокий'\n",
    "\n",
    "data['total_income_id'] = data.apply(income_level, axis = 1)\n",
    "\n",
    "\n",
    "display(data['total_income_id'])"
   ]
  },
  {
   "cell_type": "markdown",
   "metadata": {},
   "source": [
    "## Ответы на вопросы заказчика"
   ]
  },
  {
   "cell_type": "markdown",
   "metadata": {},
   "source": [
    "Влияние различных факторов на возврат кредита в срок будет оцениваться по значению столбца 'debt'. Строки в этом столбце принимают значения: '0' - клиент не имел задолженности, '1' - клиент имел задолженность.\n",
    "\n",
    "Зависимость между тем или иным фактором и возвратом кредита в срок будет определяться с помощью отношения числа должников в каждой из групп к общему числу клиентов в группе."
   ]
  },
  {
   "cell_type": "markdown",
   "metadata": {},
   "source": [
    "- Есть ли зависимость между наличием детей и возвратом кредита в срок?"
   ]
  },
  {
   "cell_type": "code",
   "execution_count": 20,
   "metadata": {},
   "outputs": [
    {
     "name": "stdout",
     "output_type": "stream",
     "text": [
      "0.07535266179910682\n",
      "0.09206952743074416\n"
     ]
    }
   ],
   "source": [
    "#процент должников для клиентов без детей:\n",
    "print(data.loc[data['children']==0]['debt'].sum()/data.loc[data['children']==0]['debt'].count())\n",
    "#процент должников для клиентов с детьми:\n",
    "print(data.loc[data['children']!=0]['debt'].sum()/data.loc[data['children']!=0]['debt'].count())"
   ]
  },
  {
   "cell_type": "markdown",
   "metadata": {},
   "source": [
    "**Вывод**"
   ]
  },
  {
   "cell_type": "markdown",
   "metadata": {},
   "source": [
    "Вероятность возврата кредита в срок для клиентов с детьми выше, чем для клиентов без детей."
   ]
  },
  {
   "cell_type": "markdown",
   "metadata": {},
   "source": [
    "- Есть ли зависимость между семейным положением и возвратом кредита в срок?"
   ]
  },
  {
   "cell_type": "code",
   "execution_count": 21,
   "metadata": {},
   "outputs": [
    {
     "data": {
      "text/plain": [
       "family_status_id\n",
       "0    0.075421\n",
       "1    0.093202\n",
       "2    0.065693\n",
       "3    0.071130\n",
       "4    0.097509\n",
       "dtype: float64"
      ]
     },
     "execution_count": 21,
     "metadata": {},
     "output_type": "execute_result"
    }
   ],
   "source": [
    "data.groupby('family_status_id')['debt'].sum()/data['family_status_id'].value_counts().sort_index()\n",
    "#значения в знаменателе после применения value_counts были \n",
    "#отсортированы по убыванию суммы значений 'debt', поэтому применяется sort_index"
   ]
  },
  {
   "cell_type": "markdown",
   "metadata": {},
   "source": [
    "**Вывод**"
   ]
  },
  {
   "cell_type": "markdown",
   "metadata": {},
   "source": [
    "Наиболее высокие проценты задолженности у клиентов с идентификатором столбца 'family_status_id' равным 4 ('Не женат / не замужем') и 1 ('гражданский брак'). Наименьший - у клиентов с  семейным положением 'вдовец / вдова'."
   ]
  },
  {
   "cell_type": "markdown",
   "metadata": {},
   "source": [
    "- Есть ли зависимость между уровнем дохода и возвратом кредита в срок?"
   ]
  },
  {
   "cell_type": "code",
   "execution_count": 22,
   "metadata": {},
   "outputs": [
    {
     "data": {
      "text/plain": [
       "total_income_id\n",
       "высокий          0.070370\n",
       "ниже среднего    0.069031\n",
       "средний          0.085281\n",
       "dtype: float64"
      ]
     },
     "execution_count": 22,
     "metadata": {},
     "output_type": "execute_result"
    }
   ],
   "source": [
    "data.groupby('total_income_id')['debt'].sum()/data['total_income_id'].value_counts().sort_index()"
   ]
  },
  {
   "cell_type": "markdown",
   "metadata": {},
   "source": [
    "**Вывод**"
   ]
  },
  {
   "cell_type": "markdown",
   "metadata": {},
   "source": [
    "Наибольшее значение задолженностей у категории дохода 'средний', поэтому нельзя сказать о значительной корреляции между уровнем дохода и возвратом кредита в срок."
   ]
  },
  {
   "cell_type": "markdown",
   "metadata": {},
   "source": [
    "- Как разные цели кредита влияют на его возврат в срок?"
   ]
  },
  {
   "cell_type": "code",
   "execution_count": 23,
   "metadata": {},
   "outputs": [
    {
     "data": {
      "text/plain": [
       "purpose\n",
       "автомобиль     0.093547\n",
       "жилье          0.072314\n",
       "образование    0.092177\n",
       "свадьба        0.079657\n",
       "dtype: float64"
      ]
     },
     "execution_count": 23,
     "metadata": {},
     "output_type": "execute_result"
    }
   ],
   "source": [
    "data.groupby('purpose')['debt'].sum()/data['purpose'].value_counts().sort_index()"
   ]
  },
  {
   "cell_type": "markdown",
   "metadata": {},
   "source": [
    "**Вывод**"
   ]
  },
  {
   "cell_type": "markdown",
   "metadata": {},
   "source": [
    "Самые ответственные клиенты - клиенты, у которых есть дети, а также те, кто берет кредит на жилье и на свадьбу. \n",
    "\n",
    "Наибольшее число должников наблюдается в категории по семейному положению 'не женат/не замужем'; для категорий с целями кредита - в категориях 'автомобиль' и 'образование'.\n",
    "\n",
    "Значительной зависимости возврата кредита в срок от уровня дохода не наблюдается."
   ]
  }
 ],
 "metadata": {
  "ExecuteTimeLog": [
   {
    "duration": 606,
    "start_time": "2021-12-27T16:59:35.652Z"
   },
   {
    "duration": 58,
    "start_time": "2021-12-27T16:59:53.650Z"
   },
   {
    "duration": 70,
    "start_time": "2021-12-27T17:01:56.501Z"
   },
   {
    "duration": 71,
    "start_time": "2021-12-27T17:04:43.186Z"
   },
   {
    "duration": 80,
    "start_time": "2021-12-27T17:05:05.365Z"
   },
   {
    "duration": 69,
    "start_time": "2021-12-27T17:08:13.593Z"
   },
   {
    "duration": 14,
    "start_time": "2021-12-27T17:24:45.368Z"
   },
   {
    "duration": 14,
    "start_time": "2021-12-27T17:30:59.244Z"
   },
   {
    "duration": 10,
    "start_time": "2021-12-27T17:31:10.418Z"
   },
   {
    "duration": 10,
    "start_time": "2021-12-27T17:31:47.044Z"
   },
   {
    "duration": 9,
    "start_time": "2021-12-27T17:31:51.197Z"
   },
   {
    "duration": 9,
    "start_time": "2021-12-27T17:32:16.074Z"
   },
   {
    "duration": 9,
    "start_time": "2021-12-27T17:39:01.146Z"
   },
   {
    "duration": 9,
    "start_time": "2021-12-27T17:39:11.968Z"
   },
   {
    "duration": 5,
    "start_time": "2021-12-27T17:39:27.903Z"
   },
   {
    "duration": 18,
    "start_time": "2021-12-27T17:39:29.744Z"
   },
   {
    "duration": 416,
    "start_time": "2021-12-27T17:40:03.369Z"
   },
   {
    "duration": 283,
    "start_time": "2021-12-27T17:40:11.058Z"
   },
   {
    "duration": 56,
    "start_time": "2021-12-27T17:40:17.828Z"
   },
   {
    "duration": 79,
    "start_time": "2021-12-27T17:40:59.591Z"
   },
   {
    "duration": 11,
    "start_time": "2021-12-27T17:41:31.716Z"
   },
   {
    "duration": 9,
    "start_time": "2021-12-27T17:41:39.020Z"
   },
   {
    "duration": 5,
    "start_time": "2021-12-27T17:41:41.778Z"
   },
   {
    "duration": 8,
    "start_time": "2021-12-27T17:41:43.580Z"
   },
   {
    "duration": 5,
    "start_time": "2021-12-27T17:46:44.855Z"
   },
   {
    "duration": 15,
    "start_time": "2021-12-27T17:47:23.612Z"
   },
   {
    "duration": 252,
    "start_time": "2021-12-27T17:48:20.367Z"
   },
   {
    "duration": 10,
    "start_time": "2021-12-27T17:48:48.248Z"
   },
   {
    "duration": 284,
    "start_time": "2021-12-27T17:55:05.249Z"
   },
   {
    "duration": 4,
    "start_time": "2021-12-27T17:55:11.522Z"
   },
   {
    "duration": 4,
    "start_time": "2021-12-27T18:00:07.811Z"
   },
   {
    "duration": 300,
    "start_time": "2021-12-27T18:01:33.355Z"
   },
   {
    "duration": 3460,
    "start_time": "2021-12-27T18:01:39.353Z"
   },
   {
    "duration": 33,
    "start_time": "2021-12-27T18:14:21.353Z"
   },
   {
    "duration": 38,
    "start_time": "2021-12-27T18:14:37.336Z"
   },
   {
    "duration": 11,
    "start_time": "2021-12-27T18:14:41.625Z"
   },
   {
    "duration": 33,
    "start_time": "2021-12-27T18:14:43.962Z"
   },
   {
    "duration": 664,
    "start_time": "2021-12-27T18:15:02.956Z"
   },
   {
    "duration": 11,
    "start_time": "2021-12-27T18:15:03.622Z"
   },
   {
    "duration": 18,
    "start_time": "2021-12-27T18:15:03.635Z"
   },
   {
    "duration": 62,
    "start_time": "2021-12-27T18:15:03.655Z"
   },
   {
    "duration": 51,
    "start_time": "2021-12-27T18:15:52.137Z"
   },
   {
    "duration": 6,
    "start_time": "2021-12-27T18:17:08.464Z"
   },
   {
    "duration": 6,
    "start_time": "2021-12-27T18:17:12.467Z"
   },
   {
    "duration": 9,
    "start_time": "2021-12-27T18:17:22.536Z"
   },
   {
    "duration": 6,
    "start_time": "2021-12-27T18:17:40.258Z"
   },
   {
    "duration": 7,
    "start_time": "2021-12-27T18:17:48.726Z"
   },
   {
    "duration": 6,
    "start_time": "2021-12-27T18:18:12.587Z"
   },
   {
    "duration": 470,
    "start_time": "2021-12-27T18:21:14.132Z"
   },
   {
    "duration": 5,
    "start_time": "2021-12-27T18:21:23.928Z"
   },
   {
    "duration": 5,
    "start_time": "2021-12-27T18:22:15.479Z"
   },
   {
    "duration": 12,
    "start_time": "2021-12-27T18:27:48.616Z"
   },
   {
    "duration": 34,
    "start_time": "2021-12-27T18:27:52.459Z"
   },
   {
    "duration": 5955,
    "start_time": "2021-12-27T18:28:26.611Z"
   },
   {
    "duration": 364,
    "start_time": "2021-12-28T17:09:45.875Z"
   },
   {
    "duration": 828,
    "start_time": "2021-12-28T17:10:02.054Z"
   },
   {
    "duration": 12,
    "start_time": "2021-12-28T17:10:02.885Z"
   },
   {
    "duration": 24,
    "start_time": "2021-12-28T17:10:02.900Z"
   },
   {
    "duration": 17,
    "start_time": "2021-12-28T17:10:02.926Z"
   },
   {
    "duration": 15,
    "start_time": "2021-12-28T17:10:02.945Z"
   },
   {
    "duration": 87,
    "start_time": "2021-12-28T17:10:02.963Z"
   },
   {
    "duration": 64,
    "start_time": "2021-12-28T17:11:58.296Z"
   },
   {
    "duration": 61,
    "start_time": "2021-12-28T17:12:07.894Z"
   },
   {
    "duration": 10,
    "start_time": "2021-12-28T17:17:00.489Z"
   },
   {
    "duration": 7,
    "start_time": "2021-12-28T17:18:41.118Z"
   },
   {
    "duration": 7,
    "start_time": "2021-12-28T17:18:53.461Z"
   },
   {
    "duration": 8,
    "start_time": "2021-12-28T17:20:18.455Z"
   },
   {
    "duration": 8,
    "start_time": "2021-12-28T17:20:31.736Z"
   },
   {
    "duration": 7,
    "start_time": "2021-12-28T17:20:42.247Z"
   },
   {
    "duration": 8,
    "start_time": "2021-12-28T17:21:12.161Z"
   },
   {
    "duration": 11,
    "start_time": "2021-12-28T17:21:17.645Z"
   },
   {
    "duration": 5,
    "start_time": "2021-12-28T17:23:30.389Z"
   },
   {
    "duration": 7100,
    "start_time": "2021-12-28T17:33:29.113Z"
   },
   {
    "duration": 7398,
    "start_time": "2021-12-28T17:33:38.911Z"
   },
   {
    "duration": 13,
    "start_time": "2021-12-28T17:33:50.354Z"
   },
   {
    "duration": 266,
    "start_time": "2021-12-28T17:41:46.006Z"
   },
   {
    "duration": 27,
    "start_time": "2021-12-28T17:41:51.634Z"
   },
   {
    "duration": 314,
    "start_time": "2021-12-28T17:49:51.539Z"
   },
   {
    "duration": 347,
    "start_time": "2021-12-28T17:50:13.338Z"
   },
   {
    "duration": 45,
    "start_time": "2021-12-28T17:50:22.158Z"
   },
   {
    "duration": 11,
    "start_time": "2021-12-28T18:00:02.102Z"
   },
   {
    "duration": 26,
    "start_time": "2021-12-28T18:01:28.009Z"
   },
   {
    "duration": 51,
    "start_time": "2021-12-28T18:02:04.015Z"
   },
   {
    "duration": 1064,
    "start_time": "2021-12-28T18:02:10.192Z"
   },
   {
    "duration": 15,
    "start_time": "2021-12-28T18:02:11.259Z"
   },
   {
    "duration": 41,
    "start_time": "2021-12-28T18:02:11.278Z"
   },
   {
    "duration": 18,
    "start_time": "2021-12-28T18:02:11.324Z"
   },
   {
    "duration": 9,
    "start_time": "2021-12-28T18:02:11.345Z"
   },
   {
    "duration": 94,
    "start_time": "2021-12-28T18:02:11.357Z"
   },
   {
    "duration": 9,
    "start_time": "2021-12-28T18:02:11.454Z"
   },
   {
    "duration": 15,
    "start_time": "2021-12-28T18:02:11.467Z"
   },
   {
    "duration": 55,
    "start_time": "2021-12-28T18:02:11.485Z"
   },
   {
    "duration": 74,
    "start_time": "2021-12-28T18:02:11.542Z"
   },
   {
    "duration": 10,
    "start_time": "2021-12-28T18:02:11.618Z"
   },
   {
    "duration": 15,
    "start_time": "2021-12-28T18:02:11.631Z"
   },
   {
    "duration": 878,
    "start_time": "2021-12-28T18:45:59.853Z"
   },
   {
    "duration": 7,
    "start_time": "2021-12-28T18:48:43.282Z"
   },
   {
    "duration": 294,
    "start_time": "2021-12-28T18:51:37.555Z"
   },
   {
    "duration": 1220,
    "start_time": "2021-12-28T18:56:14.562Z"
   },
   {
    "duration": 134,
    "start_time": "2021-12-28T19:13:46.574Z"
   },
   {
    "duration": 1071,
    "start_time": "2021-12-28T19:14:47.450Z"
   },
   {
    "duration": 1060,
    "start_time": "2021-12-28T19:15:18.931Z"
   },
   {
    "duration": 1307,
    "start_time": "2021-12-28T19:15:44.555Z"
   },
   {
    "duration": 815,
    "start_time": "2021-12-28T19:18:27.352Z"
   },
   {
    "duration": 12,
    "start_time": "2021-12-28T19:18:28.170Z"
   },
   {
    "duration": 16,
    "start_time": "2021-12-28T19:18:28.185Z"
   },
   {
    "duration": 18,
    "start_time": "2021-12-28T19:18:28.218Z"
   },
   {
    "duration": 11,
    "start_time": "2021-12-28T19:18:28.238Z"
   },
   {
    "duration": 83,
    "start_time": "2021-12-28T19:18:28.252Z"
   },
   {
    "duration": 9,
    "start_time": "2021-12-28T19:18:28.338Z"
   },
   {
    "duration": 12,
    "start_time": "2021-12-28T19:18:28.352Z"
   },
   {
    "duration": 61,
    "start_time": "2021-12-28T19:18:28.367Z"
   },
   {
    "duration": 45,
    "start_time": "2021-12-28T19:18:28.431Z"
   },
   {
    "duration": 38,
    "start_time": "2021-12-28T19:18:28.479Z"
   },
   {
    "duration": 12,
    "start_time": "2021-12-28T19:18:28.519Z"
   },
   {
    "duration": 1118,
    "start_time": "2021-12-28T19:19:50.688Z"
   },
   {
    "duration": 84,
    "start_time": "2021-12-28T19:20:44.699Z"
   },
   {
    "duration": 1386,
    "start_time": "2021-12-28T19:20:51.430Z"
   },
   {
    "duration": 530,
    "start_time": "2021-12-28T19:22:10.066Z"
   },
   {
    "duration": 960,
    "start_time": "2021-12-28T19:23:06.673Z"
   },
   {
    "duration": 510,
    "start_time": "2021-12-28T19:23:19.833Z"
   },
   {
    "duration": 932,
    "start_time": "2021-12-28T19:23:23.154Z"
   },
   {
    "duration": 489,
    "start_time": "2021-12-28T19:23:39.393Z"
   },
   {
    "duration": 802,
    "start_time": "2021-12-28T19:23:53.658Z"
   },
   {
    "duration": 967,
    "start_time": "2021-12-28T19:24:05.764Z"
   },
   {
    "duration": 5,
    "start_time": "2021-12-28T19:24:43.032Z"
   },
   {
    "duration": 1142,
    "start_time": "2021-12-28T19:25:24.983Z"
   },
   {
    "duration": 933,
    "start_time": "2021-12-28T19:25:55.254Z"
   },
   {
    "duration": 5,
    "start_time": "2021-12-28T19:27:25.977Z"
   },
   {
    "duration": 5,
    "start_time": "2021-12-28T19:28:04.382Z"
   },
   {
    "duration": 933,
    "start_time": "2021-12-28T19:29:21.113Z"
   },
   {
    "duration": 7,
    "start_time": "2021-12-28T19:29:33.762Z"
   },
   {
    "duration": 7,
    "start_time": "2021-12-28T19:29:51.870Z"
   },
   {
    "duration": 7,
    "start_time": "2021-12-28T19:29:56.457Z"
   },
   {
    "duration": 1847,
    "start_time": "2021-12-28T19:30:17.463Z"
   },
   {
    "duration": 506,
    "start_time": "2021-12-28T19:30:37.020Z"
   },
   {
    "duration": 1903,
    "start_time": "2021-12-28T19:30:48.718Z"
   },
   {
    "duration": 929,
    "start_time": "2021-12-28T19:31:18.058Z"
   },
   {
    "duration": 1904,
    "start_time": "2021-12-28T19:31:45.975Z"
   },
   {
    "duration": 493,
    "start_time": "2021-12-28T19:32:20.169Z"
   },
   {
    "duration": 2313,
    "start_time": "2021-12-28T19:32:44.052Z"
   },
   {
    "duration": 2345,
    "start_time": "2021-12-28T19:33:11.719Z"
   },
   {
    "duration": 2733,
    "start_time": "2021-12-28T19:33:38.014Z"
   },
   {
    "duration": 444,
    "start_time": "2021-12-28T19:33:51.250Z"
   },
   {
    "duration": 2340,
    "start_time": "2021-12-28T19:34:00.812Z"
   },
   {
    "duration": 6,
    "start_time": "2021-12-28T19:34:35.419Z"
   },
   {
    "duration": 2111,
    "start_time": "2021-12-28T19:36:38.396Z"
   },
   {
    "duration": 1902,
    "start_time": "2021-12-28T19:37:29.873Z"
   },
   {
    "duration": 2010,
    "start_time": "2021-12-28T19:40:16.028Z"
   },
   {
    "duration": 444,
    "start_time": "2021-12-28T19:44:19.306Z"
   },
   {
    "duration": 517,
    "start_time": "2021-12-28T19:44:29.471Z"
   },
   {
    "duration": 1135,
    "start_time": "2021-12-28T19:46:01.991Z"
   },
   {
    "duration": 1331,
    "start_time": "2021-12-28T19:46:09.781Z"
   },
   {
    "duration": 1228,
    "start_time": "2021-12-29T19:23:35.200Z"
   },
   {
    "duration": 19,
    "start_time": "2021-12-29T19:23:36.432Z"
   },
   {
    "duration": 22,
    "start_time": "2021-12-29T19:23:36.455Z"
   },
   {
    "duration": 47,
    "start_time": "2021-12-29T19:23:36.480Z"
   },
   {
    "duration": 11,
    "start_time": "2021-12-29T19:23:36.529Z"
   },
   {
    "duration": 112,
    "start_time": "2021-12-29T19:23:36.543Z"
   },
   {
    "duration": 9,
    "start_time": "2021-12-29T19:23:36.658Z"
   },
   {
    "duration": 45,
    "start_time": "2021-12-29T19:23:36.672Z"
   },
   {
    "duration": 25,
    "start_time": "2021-12-29T19:23:36.721Z"
   },
   {
    "duration": 95,
    "start_time": "2021-12-29T19:23:36.749Z"
   },
   {
    "duration": 15,
    "start_time": "2021-12-29T19:23:36.847Z"
   },
   {
    "duration": 1546,
    "start_time": "2021-12-29T19:23:36.865Z"
   },
   {
    "duration": 4,
    "start_time": "2021-12-29T19:25:03.399Z"
   },
   {
    "duration": 679,
    "start_time": "2021-12-29T19:30:22.428Z"
   },
   {
    "duration": 1327,
    "start_time": "2021-12-29T19:30:47.521Z"
   },
   {
    "duration": 28,
    "start_time": "2021-12-29T19:33:14.760Z"
   },
   {
    "duration": 538,
    "start_time": "2021-12-29T19:33:27.199Z"
   },
   {
    "duration": 6,
    "start_time": "2021-12-29T19:33:35.790Z"
   },
   {
    "duration": 669,
    "start_time": "2021-12-29T19:33:55.878Z"
   },
   {
    "duration": 699,
    "start_time": "2021-12-29T19:34:15.739Z"
   },
   {
    "duration": 532,
    "start_time": "2021-12-29T19:34:22.645Z"
   },
   {
    "duration": 7,
    "start_time": "2021-12-29T19:34:27.994Z"
   },
   {
    "duration": 5,
    "start_time": "2021-12-29T19:35:14.516Z"
   },
   {
    "duration": 10246,
    "start_time": "2021-12-29T19:35:35.004Z"
   },
   {
    "duration": 8,
    "start_time": "2021-12-29T19:35:51.492Z"
   },
   {
    "duration": 5,
    "start_time": "2021-12-29T19:36:31.309Z"
   },
   {
    "duration": 7662,
    "start_time": "2021-12-29T19:38:10.172Z"
   },
   {
    "duration": 8090,
    "start_time": "2021-12-29T19:39:09.063Z"
   },
   {
    "duration": 7952,
    "start_time": "2021-12-29T19:43:29.221Z"
   },
   {
    "duration": 8118,
    "start_time": "2021-12-29T19:43:55.600Z"
   },
   {
    "duration": 1010,
    "start_time": "2021-12-29T19:44:15.433Z"
   },
   {
    "duration": 1644,
    "start_time": "2021-12-29T19:44:38.792Z"
   },
   {
    "duration": 8465,
    "start_time": "2021-12-29T19:48:54.885Z"
   },
   {
    "duration": 1659,
    "start_time": "2021-12-29T19:49:30.551Z"
   },
   {
    "duration": 3243,
    "start_time": "2021-12-29T19:49:46.546Z"
   },
   {
    "duration": 84,
    "start_time": "2021-12-29T19:50:41.987Z"
   },
   {
    "duration": 3056,
    "start_time": "2021-12-29T19:51:46.746Z"
   },
   {
    "duration": 7958,
    "start_time": "2021-12-29T19:52:15.692Z"
   },
   {
    "duration": 2554,
    "start_time": "2021-12-29T19:56:44.961Z"
   },
   {
    "duration": 2524,
    "start_time": "2021-12-29T19:57:05.551Z"
   },
   {
    "duration": 7759,
    "start_time": "2021-12-29T19:57:39.004Z"
   },
   {
    "duration": 312,
    "start_time": "2021-12-29T20:18:08.790Z"
   },
   {
    "duration": 37,
    "start_time": "2021-12-29T20:18:15.861Z"
   },
   {
    "duration": 8,
    "start_time": "2021-12-29T20:18:48.153Z"
   },
   {
    "duration": 199,
    "start_time": "2021-12-29T20:19:24.820Z"
   },
   {
    "duration": 118,
    "start_time": "2021-12-29T20:19:31.549Z"
   },
   {
    "duration": 56,
    "start_time": "2021-12-29T20:19:39.189Z"
   },
   {
    "duration": 9618,
    "start_time": "2021-12-29T20:24:43.443Z"
   },
   {
    "duration": 8312,
    "start_time": "2021-12-29T20:25:19.931Z"
   },
   {
    "duration": 302,
    "start_time": "2021-12-29T20:26:48.477Z"
   },
   {
    "duration": 12,
    "start_time": "2021-12-29T20:28:55.573Z"
   },
   {
    "duration": 467,
    "start_time": "2021-12-29T20:29:24.791Z"
   },
   {
    "duration": 342,
    "start_time": "2021-12-29T20:29:43.144Z"
   },
   {
    "duration": 8,
    "start_time": "2021-12-29T20:30:10.338Z"
   },
   {
    "duration": 13,
    "start_time": "2021-12-29T20:30:42.058Z"
   },
   {
    "duration": 5,
    "start_time": "2021-12-29T20:31:39.241Z"
   },
   {
    "duration": 12,
    "start_time": "2021-12-29T20:32:10.396Z"
   },
   {
    "duration": 279,
    "start_time": "2021-12-29T20:32:40.126Z"
   },
   {
    "duration": 357,
    "start_time": "2021-12-29T20:34:15.808Z"
   },
   {
    "duration": 288,
    "start_time": "2021-12-29T20:35:26.339Z"
   },
   {
    "duration": 332,
    "start_time": "2021-12-29T20:35:49.210Z"
   },
   {
    "duration": 8,
    "start_time": "2021-12-29T20:36:07.711Z"
   },
   {
    "duration": 27,
    "start_time": "2021-12-29T20:37:06.392Z"
   },
   {
    "duration": 6,
    "start_time": "2021-12-29T20:37:40.808Z"
   },
   {
    "duration": 15,
    "start_time": "2021-12-29T20:39:19.085Z"
   },
   {
    "duration": 412,
    "start_time": "2021-12-29T20:39:30.671Z"
   },
   {
    "duration": 319,
    "start_time": "2021-12-29T20:39:43.697Z"
   },
   {
    "duration": 345,
    "start_time": "2021-12-29T20:40:01.015Z"
   },
   {
    "duration": 10076,
    "start_time": "2021-12-29T20:40:44.191Z"
   },
   {
    "duration": 8382,
    "start_time": "2021-12-29T20:41:08.920Z"
   },
   {
    "duration": 8058,
    "start_time": "2021-12-29T20:41:18.619Z"
   },
   {
    "duration": 309,
    "start_time": "2021-12-29T20:42:15.941Z"
   },
   {
    "duration": 307,
    "start_time": "2021-12-29T20:42:31.628Z"
   },
   {
    "duration": 314,
    "start_time": "2021-12-29T20:42:40.841Z"
   },
   {
    "duration": 374,
    "start_time": "2021-12-29T20:43:12.756Z"
   },
   {
    "duration": 266,
    "start_time": "2021-12-29T20:44:20.831Z"
   },
   {
    "duration": 5,
    "start_time": "2021-12-29T20:44:35.993Z"
   },
   {
    "duration": 1060,
    "start_time": "2021-12-29T20:44:55.635Z"
   },
   {
    "duration": 20,
    "start_time": "2021-12-29T20:44:56.698Z"
   },
   {
    "duration": 21,
    "start_time": "2021-12-29T20:44:56.721Z"
   },
   {
    "duration": 19,
    "start_time": "2021-12-29T20:44:56.744Z"
   },
   {
    "duration": 7,
    "start_time": "2021-12-29T20:44:56.765Z"
   },
   {
    "duration": 103,
    "start_time": "2021-12-29T20:44:56.775Z"
   },
   {
    "duration": 8,
    "start_time": "2021-12-29T20:44:56.881Z"
   },
   {
    "duration": 27,
    "start_time": "2021-12-29T20:44:56.916Z"
   },
   {
    "duration": 33,
    "start_time": "2021-12-29T20:44:56.947Z"
   },
   {
    "duration": 88,
    "start_time": "2021-12-29T20:44:56.983Z"
   },
   {
    "duration": 11,
    "start_time": "2021-12-29T20:44:57.073Z"
   },
   {
    "duration": 7721,
    "start_time": "2021-12-29T20:44:57.087Z"
   },
   {
    "duration": 21,
    "start_time": "2021-12-29T20:45:04.820Z"
   },
   {
    "duration": 29,
    "start_time": "2021-12-29T20:45:04.844Z"
   },
   {
    "duration": 6,
    "start_time": "2021-12-29T20:45:04.875Z"
   },
   {
    "duration": 9,
    "start_time": "2021-12-29T20:45:35.039Z"
   },
   {
    "duration": 11,
    "start_time": "2021-12-29T20:46:35.279Z"
   },
   {
    "duration": 9,
    "start_time": "2021-12-29T20:47:08.530Z"
   },
   {
    "duration": 7,
    "start_time": "2021-12-29T20:48:00.852Z"
   },
   {
    "duration": 9,
    "start_time": "2021-12-29T20:48:18.184Z"
   },
   {
    "duration": 20,
    "start_time": "2021-12-29T20:48:42.583Z"
   },
   {
    "duration": 908,
    "start_time": "2021-12-30T12:46:55.622Z"
   },
   {
    "duration": 29,
    "start_time": "2021-12-30T12:46:56.533Z"
   },
   {
    "duration": 15,
    "start_time": "2021-12-30T12:46:56.566Z"
   },
   {
    "duration": 18,
    "start_time": "2021-12-30T12:46:56.583Z"
   },
   {
    "duration": 10,
    "start_time": "2021-12-30T12:46:56.603Z"
   },
   {
    "duration": 94,
    "start_time": "2021-12-30T12:46:56.616Z"
   },
   {
    "duration": 7,
    "start_time": "2021-12-30T12:46:56.713Z"
   },
   {
    "duration": 44,
    "start_time": "2021-12-30T12:46:56.724Z"
   },
   {
    "duration": 23,
    "start_time": "2021-12-30T12:46:56.771Z"
   },
   {
    "duration": 81,
    "start_time": "2021-12-30T12:46:56.796Z"
   },
   {
    "duration": 12,
    "start_time": "2021-12-30T12:46:56.880Z"
   },
   {
    "duration": 7584,
    "start_time": "2021-12-30T12:46:56.895Z"
   },
   {
    "duration": 18,
    "start_time": "2021-12-30T12:47:04.481Z"
   },
   {
    "duration": 27,
    "start_time": "2021-12-30T12:47:04.501Z"
   },
   {
    "duration": 10,
    "start_time": "2021-12-30T12:47:04.560Z"
   },
   {
    "duration": 12,
    "start_time": "2021-12-30T12:47:04.573Z"
   },
   {
    "duration": 8,
    "start_time": "2021-12-30T12:47:04.588Z"
   },
   {
    "duration": 69,
    "start_time": "2021-12-30T12:47:04.599Z"
   },
   {
    "duration": 767,
    "start_time": "2021-12-30T12:49:58.536Z"
   },
   {
    "duration": 912,
    "start_time": "2021-12-30T12:50:48.737Z"
   },
   {
    "duration": 322,
    "start_time": "2021-12-30T12:56:49.898Z"
   },
   {
    "duration": 2708,
    "start_time": "2021-12-30T12:56:59.097Z"
   },
   {
    "duration": 6126,
    "start_time": "2021-12-30T12:58:58.239Z"
   },
   {
    "duration": 4081,
    "start_time": "2021-12-30T12:59:20.631Z"
   },
   {
    "duration": 952,
    "start_time": "2021-12-30T12:59:50.567Z"
   },
   {
    "duration": 12,
    "start_time": "2021-12-30T12:59:51.522Z"
   },
   {
    "duration": 15,
    "start_time": "2021-12-30T12:59:51.560Z"
   },
   {
    "duration": 17,
    "start_time": "2021-12-30T12:59:51.577Z"
   },
   {
    "duration": 8,
    "start_time": "2021-12-30T12:59:51.596Z"
   },
   {
    "duration": 98,
    "start_time": "2021-12-30T12:59:51.607Z"
   },
   {
    "duration": 7,
    "start_time": "2021-12-30T12:59:51.709Z"
   },
   {
    "duration": 44,
    "start_time": "2021-12-30T12:59:51.719Z"
   },
   {
    "duration": 23,
    "start_time": "2021-12-30T12:59:51.765Z"
   },
   {
    "duration": 69,
    "start_time": "2021-12-30T12:59:51.790Z"
   },
   {
    "duration": 10,
    "start_time": "2021-12-30T12:59:51.862Z"
   },
   {
    "duration": 5987,
    "start_time": "2021-12-30T12:59:51.874Z"
   },
   {
    "duration": 14,
    "start_time": "2021-12-30T12:59:57.864Z"
   },
   {
    "duration": 28,
    "start_time": "2021-12-30T12:59:57.880Z"
   },
   {
    "duration": 51,
    "start_time": "2021-12-30T12:59:57.910Z"
   },
   {
    "duration": 10,
    "start_time": "2021-12-30T12:59:57.964Z"
   },
   {
    "duration": 10,
    "start_time": "2021-12-30T12:59:57.976Z"
   },
   {
    "duration": 18,
    "start_time": "2021-12-30T12:59:57.988Z"
   },
   {
    "duration": 3992,
    "start_time": "2021-12-30T13:05:27.807Z"
   },
   {
    "duration": 11,
    "start_time": "2021-12-30T13:06:39.949Z"
   },
   {
    "duration": 491,
    "start_time": "2021-12-30T13:18:01.892Z"
   },
   {
    "duration": 890,
    "start_time": "2021-12-30T13:18:21.764Z"
   },
   {
    "duration": 12,
    "start_time": "2021-12-30T13:18:22.659Z"
   },
   {
    "duration": 17,
    "start_time": "2021-12-30T13:18:22.674Z"
   },
   {
    "duration": 16,
    "start_time": "2021-12-30T13:18:22.694Z"
   },
   {
    "duration": 47,
    "start_time": "2021-12-30T13:18:22.712Z"
   },
   {
    "duration": 56,
    "start_time": "2021-12-30T13:18:22.762Z"
   },
   {
    "duration": 6,
    "start_time": "2021-12-30T13:18:22.821Z"
   },
   {
    "duration": 11,
    "start_time": "2021-12-30T13:18:22.860Z"
   },
   {
    "duration": 22,
    "start_time": "2021-12-30T13:18:22.873Z"
   },
   {
    "duration": 87,
    "start_time": "2021-12-30T13:18:22.897Z"
   },
   {
    "duration": 10,
    "start_time": "2021-12-30T13:18:22.986Z"
   },
   {
    "duration": 6227,
    "start_time": "2021-12-30T13:18:22.999Z"
   },
   {
    "duration": 14,
    "start_time": "2021-12-30T13:18:29.229Z"
   },
   {
    "duration": 27,
    "start_time": "2021-12-30T13:18:29.260Z"
   },
   {
    "duration": 9,
    "start_time": "2021-12-30T13:18:29.290Z"
   },
   {
    "duration": 58,
    "start_time": "2021-12-30T13:18:29.301Z"
   },
   {
    "duration": 8,
    "start_time": "2021-12-30T13:18:29.362Z"
   },
   {
    "duration": 16,
    "start_time": "2021-12-30T13:18:29.372Z"
   },
   {
    "duration": 8,
    "start_time": "2021-12-30T13:22:04.950Z"
   },
   {
    "duration": 7,
    "start_time": "2021-12-30T13:24:49.479Z"
   },
   {
    "duration": 10,
    "start_time": "2021-12-30T13:25:03.408Z"
   },
   {
    "duration": 504,
    "start_time": "2021-12-30T13:30:36.909Z"
   },
   {
    "duration": 9489,
    "start_time": "2021-12-30T13:30:49.437Z"
   },
   {
    "duration": 6,
    "start_time": "2021-12-30T13:31:12.578Z"
   },
   {
    "duration": 7,
    "start_time": "2021-12-30T13:31:16.592Z"
   },
   {
    "duration": 7,
    "start_time": "2021-12-30T13:31:41.593Z"
   },
   {
    "duration": 7,
    "start_time": "2021-12-30T13:31:55.264Z"
   },
   {
    "duration": 9,
    "start_time": "2021-12-30T13:34:03.895Z"
   },
   {
    "duration": 9,
    "start_time": "2021-12-30T13:39:26.292Z"
   },
   {
    "duration": 132,
    "start_time": "2021-12-30T13:41:31.482Z"
   },
   {
    "duration": 10,
    "start_time": "2021-12-30T13:41:39.736Z"
   },
   {
    "duration": 5708,
    "start_time": "2021-12-30T13:42:20.936Z"
   },
   {
    "duration": 711,
    "start_time": "2021-12-30T13:42:29.731Z"
   },
   {
    "duration": 400,
    "start_time": "2021-12-30T13:42:41.401Z"
   },
   {
    "duration": 387,
    "start_time": "2021-12-30T13:43:02.819Z"
   },
   {
    "duration": 883,
    "start_time": "2021-12-30T13:43:23.269Z"
   },
   {
    "duration": 15,
    "start_time": "2021-12-30T13:43:24.155Z"
   },
   {
    "duration": 15,
    "start_time": "2021-12-30T13:43:24.173Z"
   },
   {
    "duration": 16,
    "start_time": "2021-12-30T13:43:24.191Z"
   },
   {
    "duration": 49,
    "start_time": "2021-12-30T13:43:24.210Z"
   },
   {
    "duration": 54,
    "start_time": "2021-12-30T13:43:24.262Z"
   },
   {
    "duration": 6,
    "start_time": "2021-12-30T13:43:24.319Z"
   },
   {
    "duration": 40,
    "start_time": "2021-12-30T13:43:24.328Z"
   },
   {
    "duration": 22,
    "start_time": "2021-12-30T13:43:24.371Z"
   },
   {
    "duration": 88,
    "start_time": "2021-12-30T13:43:24.396Z"
   },
   {
    "duration": 9,
    "start_time": "2021-12-30T13:43:24.486Z"
   },
   {
    "duration": 6484,
    "start_time": "2021-12-30T13:43:24.497Z"
   },
   {
    "duration": 18,
    "start_time": "2021-12-30T13:43:30.990Z"
   },
   {
    "duration": 64,
    "start_time": "2021-12-30T13:43:31.011Z"
   },
   {
    "duration": 10,
    "start_time": "2021-12-30T13:43:31.077Z"
   },
   {
    "duration": 23,
    "start_time": "2021-12-30T13:43:31.090Z"
   },
   {
    "duration": 739,
    "start_time": "2021-12-30T13:43:31.115Z"
   },
   {
    "duration": 13,
    "start_time": "2021-12-30T13:43:31.860Z"
   },
   {
    "duration": 11,
    "start_time": "2021-12-30T13:43:31.876Z"
   },
   {
    "duration": 19,
    "start_time": "2021-12-30T13:43:31.890Z"
   },
   {
    "duration": 13,
    "start_time": "2021-12-30T13:49:07.198Z"
   },
   {
    "duration": 11,
    "start_time": "2021-12-30T13:51:13.922Z"
   },
   {
    "duration": 931,
    "start_time": "2021-12-30T19:58:19.232Z"
   },
   {
    "duration": 12,
    "start_time": "2021-12-30T19:58:20.166Z"
   },
   {
    "duration": 15,
    "start_time": "2021-12-30T19:58:20.182Z"
   },
   {
    "duration": 16,
    "start_time": "2021-12-30T19:58:20.200Z"
   },
   {
    "duration": 40,
    "start_time": "2021-12-30T19:58:20.219Z"
   },
   {
    "duration": 54,
    "start_time": "2021-12-30T19:58:20.262Z"
   },
   {
    "duration": 6,
    "start_time": "2021-12-30T19:58:20.318Z"
   },
   {
    "duration": 10,
    "start_time": "2021-12-30T19:58:20.361Z"
   },
   {
    "duration": 23,
    "start_time": "2021-12-30T19:58:20.374Z"
   },
   {
    "duration": 102,
    "start_time": "2021-12-30T19:58:20.399Z"
   },
   {
    "duration": 11,
    "start_time": "2021-12-30T19:58:20.504Z"
   },
   {
    "duration": 7210,
    "start_time": "2021-12-30T19:58:20.517Z"
   },
   {
    "duration": 15,
    "start_time": "2021-12-30T19:58:27.729Z"
   },
   {
    "duration": 33,
    "start_time": "2021-12-30T19:58:27.761Z"
   },
   {
    "duration": 11,
    "start_time": "2021-12-30T19:58:27.797Z"
   },
   {
    "duration": 51,
    "start_time": "2021-12-30T19:58:27.810Z"
   },
   {
    "duration": 653,
    "start_time": "2021-12-30T19:58:27.864Z"
   },
   {
    "duration": 15,
    "start_time": "2021-12-30T19:58:28.519Z"
   },
   {
    "duration": 28,
    "start_time": "2021-12-30T19:58:28.536Z"
   },
   {
    "duration": 11,
    "start_time": "2021-12-30T19:58:28.566Z"
   },
   {
    "duration": 9,
    "start_time": "2021-12-30T19:58:28.580Z"
   },
   {
    "duration": 124,
    "start_time": "2021-12-30T19:58:55.702Z"
   },
   {
    "duration": 55,
    "start_time": "2021-12-30T19:59:07.889Z"
   },
   {
    "duration": 60,
    "start_time": "2021-12-30T20:00:00.448Z"
   },
   {
    "duration": 1040,
    "start_time": "2021-12-30T20:00:15.945Z"
   },
   {
    "duration": 16,
    "start_time": "2021-12-30T20:00:16.988Z"
   },
   {
    "duration": 17,
    "start_time": "2021-12-30T20:00:17.008Z"
   },
   {
    "duration": 46,
    "start_time": "2021-12-30T20:00:17.029Z"
   },
   {
    "duration": 7,
    "start_time": "2021-12-30T20:00:17.078Z"
   },
   {
    "duration": 82,
    "start_time": "2021-12-30T20:00:17.088Z"
   },
   {
    "duration": 7,
    "start_time": "2021-12-30T20:00:17.172Z"
   },
   {
    "duration": 13,
    "start_time": "2021-12-30T20:00:17.185Z"
   },
   {
    "duration": 58,
    "start_time": "2021-12-30T20:00:17.202Z"
   },
   {
    "duration": 45,
    "start_time": "2021-12-30T20:00:17.263Z"
   },
   {
    "duration": 12,
    "start_time": "2021-12-30T20:00:17.311Z"
   },
   {
    "duration": 6680,
    "start_time": "2021-12-30T20:00:17.325Z"
   },
   {
    "duration": 17,
    "start_time": "2021-12-30T20:00:24.008Z"
   },
   {
    "duration": 57,
    "start_time": "2021-12-30T20:00:24.029Z"
   },
   {
    "duration": 10,
    "start_time": "2021-12-30T20:00:24.089Z"
   },
   {
    "duration": 23,
    "start_time": "2021-12-30T20:00:24.102Z"
   },
   {
    "duration": 954,
    "start_time": "2021-12-30T20:00:24.128Z"
   },
   {
    "duration": 58,
    "start_time": "2021-12-30T20:00:25.096Z"
   },
   {
    "duration": 100,
    "start_time": "2021-12-30T20:00:25.172Z"
   },
   {
    "duration": 79,
    "start_time": "2021-12-30T20:00:25.288Z"
   },
   {
    "duration": 10,
    "start_time": "2021-12-30T20:00:25.370Z"
   },
   {
    "duration": 57,
    "start_time": "2021-12-30T20:02:10.238Z"
   },
   {
    "duration": 980,
    "start_time": "2021-12-30T20:02:30.571Z"
   },
   {
    "duration": 15,
    "start_time": "2021-12-30T20:02:31.554Z"
   },
   {
    "duration": 19,
    "start_time": "2021-12-30T20:02:31.572Z"
   },
   {
    "duration": 65,
    "start_time": "2021-12-30T20:02:31.595Z"
   },
   {
    "duration": 10,
    "start_time": "2021-12-30T20:02:31.663Z"
   },
   {
    "duration": 102,
    "start_time": "2021-12-30T20:02:31.676Z"
   },
   {
    "duration": 10,
    "start_time": "2021-12-30T20:02:31.781Z"
   },
   {
    "duration": 26,
    "start_time": "2021-12-30T20:02:31.796Z"
   },
   {
    "duration": 46,
    "start_time": "2021-12-30T20:02:31.826Z"
   },
   {
    "duration": 49,
    "start_time": "2021-12-30T20:02:31.874Z"
   },
   {
    "duration": 35,
    "start_time": "2021-12-30T20:02:31.926Z"
   },
   {
    "duration": 7073,
    "start_time": "2021-12-30T20:02:31.964Z"
   },
   {
    "duration": 27,
    "start_time": "2021-12-30T20:02:39.040Z"
   },
   {
    "duration": 29,
    "start_time": "2021-12-30T20:02:39.069Z"
   },
   {
    "duration": 10,
    "start_time": "2021-12-30T20:02:39.100Z"
   },
   {
    "duration": 11,
    "start_time": "2021-12-30T20:02:39.112Z"
   },
   {
    "duration": 1302,
    "start_time": "2021-12-30T20:02:39.161Z"
   },
   {
    "duration": 17,
    "start_time": "2021-12-30T20:02:40.467Z"
   },
   {
    "duration": 15,
    "start_time": "2021-12-30T20:02:40.488Z"
   },
   {
    "duration": 15,
    "start_time": "2021-12-30T20:02:40.506Z"
   },
   {
    "duration": 16,
    "start_time": "2021-12-30T20:02:40.559Z"
   },
   {
    "duration": 136,
    "start_time": "2021-12-30T20:04:41.977Z"
   },
   {
    "duration": 510,
    "start_time": "2021-12-30T20:04:45.908Z"
   },
   {
    "duration": 426,
    "start_time": "2021-12-30T20:05:07.010Z"
   },
   {
    "duration": 902,
    "start_time": "2021-12-30T20:05:21.081Z"
   },
   {
    "duration": 12,
    "start_time": "2021-12-30T20:05:21.986Z"
   },
   {
    "duration": 14,
    "start_time": "2021-12-30T20:05:22.001Z"
   },
   {
    "duration": 16,
    "start_time": "2021-12-30T20:05:22.017Z"
   },
   {
    "duration": 28,
    "start_time": "2021-12-30T20:05:22.036Z"
   },
   {
    "duration": 55,
    "start_time": "2021-12-30T20:05:22.067Z"
   },
   {
    "duration": 6,
    "start_time": "2021-12-30T20:05:22.124Z"
   },
   {
    "duration": 12,
    "start_time": "2021-12-30T20:05:22.161Z"
   },
   {
    "duration": 23,
    "start_time": "2021-12-30T20:05:22.176Z"
   },
   {
    "duration": 79,
    "start_time": "2021-12-30T20:05:22.201Z"
   },
   {
    "duration": 10,
    "start_time": "2021-12-30T20:05:22.282Z"
   },
   {
    "duration": 6731,
    "start_time": "2021-12-30T20:05:22.294Z"
   },
   {
    "duration": 13,
    "start_time": "2021-12-30T20:05:29.028Z"
   },
   {
    "duration": 44,
    "start_time": "2021-12-30T20:05:29.043Z"
   },
   {
    "duration": 11,
    "start_time": "2021-12-30T20:05:29.090Z"
   },
   {
    "duration": 9,
    "start_time": "2021-12-30T20:05:29.104Z"
   },
   {
    "duration": 636,
    "start_time": "2021-12-30T20:05:29.158Z"
   },
   {
    "duration": 14,
    "start_time": "2021-12-30T20:05:29.797Z"
   },
   {
    "duration": 12,
    "start_time": "2021-12-30T20:05:29.814Z"
   },
   {
    "duration": 13,
    "start_time": "2021-12-30T20:05:29.861Z"
   },
   {
    "duration": 13,
    "start_time": "2021-12-30T20:05:29.877Z"
   },
   {
    "duration": 523,
    "start_time": "2021-12-30T20:05:52.091Z"
   },
   {
    "duration": 403,
    "start_time": "2021-12-30T20:06:03.577Z"
   },
   {
    "duration": 402,
    "start_time": "2021-12-30T20:06:12.350Z"
   },
   {
    "duration": 891,
    "start_time": "2021-12-30T20:06:58.196Z"
   },
   {
    "duration": 12,
    "start_time": "2021-12-30T20:06:59.090Z"
   },
   {
    "duration": 15,
    "start_time": "2021-12-30T20:06:59.105Z"
   },
   {
    "duration": 39,
    "start_time": "2021-12-30T20:06:59.123Z"
   },
   {
    "duration": 8,
    "start_time": "2021-12-30T20:06:59.165Z"
   },
   {
    "duration": 58,
    "start_time": "2021-12-30T20:06:59.176Z"
   },
   {
    "duration": 8,
    "start_time": "2021-12-30T20:06:59.260Z"
   },
   {
    "duration": 11,
    "start_time": "2021-12-30T20:06:59.272Z"
   },
   {
    "duration": 23,
    "start_time": "2021-12-30T20:06:59.286Z"
   },
   {
    "duration": 81,
    "start_time": "2021-12-30T20:06:59.311Z"
   },
   {
    "duration": 11,
    "start_time": "2021-12-30T20:06:59.395Z"
   },
   {
    "duration": 7135,
    "start_time": "2021-12-30T20:06:59.409Z"
   },
   {
    "duration": 25,
    "start_time": "2021-12-30T20:07:06.547Z"
   },
   {
    "duration": 31,
    "start_time": "2021-12-30T20:07:06.574Z"
   },
   {
    "duration": 10,
    "start_time": "2021-12-30T20:07:06.607Z"
   },
   {
    "duration": 44,
    "start_time": "2021-12-30T20:07:06.619Z"
   },
   {
    "duration": 672,
    "start_time": "2021-12-30T20:07:06.666Z"
   },
   {
    "duration": 24,
    "start_time": "2021-12-30T20:07:07.341Z"
   },
   {
    "duration": 10,
    "start_time": "2021-12-30T20:07:07.367Z"
   },
   {
    "duration": 11,
    "start_time": "2021-12-30T20:07:07.380Z"
   },
   {
    "duration": 10,
    "start_time": "2021-12-30T20:07:07.394Z"
   },
   {
    "duration": 653,
    "start_time": "2022-01-01T17:15:18.312Z"
   },
   {
    "duration": 9,
    "start_time": "2022-01-01T17:15:18.967Z"
   },
   {
    "duration": 12,
    "start_time": "2022-01-01T17:15:18.982Z"
   },
   {
    "duration": 14,
    "start_time": "2022-01-01T17:15:18.996Z"
   },
   {
    "duration": 6,
    "start_time": "2022-01-01T17:15:19.011Z"
   },
   {
    "duration": 70,
    "start_time": "2022-01-01T17:15:19.019Z"
   },
   {
    "duration": 5,
    "start_time": "2022-01-01T17:15:19.093Z"
   },
   {
    "duration": 9,
    "start_time": "2022-01-01T17:15:19.100Z"
   },
   {
    "duration": 16,
    "start_time": "2022-01-01T17:15:19.111Z"
   },
   {
    "duration": 61,
    "start_time": "2022-01-01T17:15:19.129Z"
   },
   {
    "duration": 8,
    "start_time": "2022-01-01T17:15:19.192Z"
   },
   {
    "duration": 4410,
    "start_time": "2022-01-01T17:15:19.202Z"
   },
   {
    "duration": 11,
    "start_time": "2022-01-01T17:15:23.615Z"
   },
   {
    "duration": 41,
    "start_time": "2022-01-01T17:15:23.628Z"
   },
   {
    "duration": 8,
    "start_time": "2022-01-01T17:15:23.671Z"
   },
   {
    "duration": 8,
    "start_time": "2022-01-01T17:15:23.681Z"
   },
   {
    "duration": 390,
    "start_time": "2022-01-01T17:15:23.691Z"
   },
   {
    "duration": 8,
    "start_time": "2022-01-01T17:15:24.083Z"
   },
   {
    "duration": 6,
    "start_time": "2022-01-01T17:15:24.092Z"
   },
   {
    "duration": 9,
    "start_time": "2022-01-01T17:15:24.099Z"
   },
   {
    "duration": 7,
    "start_time": "2022-01-01T17:15:24.109Z"
   },
   {
    "duration": 17,
    "start_time": "2022-01-01T17:24:20.095Z"
   },
   {
    "duration": 18,
    "start_time": "2022-01-01T17:24:46.691Z"
   },
   {
    "duration": 726,
    "start_time": "2022-01-02T13:04:11.069Z"
   },
   {
    "duration": 776,
    "start_time": "2022-01-02T13:04:18.017Z"
   },
   {
    "duration": 60,
    "start_time": "2022-01-02T13:04:18.799Z"
   },
   {
    "duration": 11,
    "start_time": "2022-01-02T13:04:18.862Z"
   },
   {
    "duration": 14,
    "start_time": "2022-01-02T13:04:18.875Z"
   },
   {
    "duration": 39,
    "start_time": "2022-01-02T13:04:18.891Z"
   },
   {
    "duration": 9,
    "start_time": "2022-01-02T13:04:18.932Z"
   },
   {
    "duration": 51,
    "start_time": "2022-01-02T13:04:18.945Z"
   },
   {
    "duration": 27,
    "start_time": "2022-01-02T13:04:18.999Z"
   },
   {
    "duration": 13,
    "start_time": "2022-01-02T13:04:19.028Z"
   },
   {
    "duration": 32,
    "start_time": "2022-01-02T13:04:19.043Z"
   },
   {
    "duration": 60,
    "start_time": "2022-01-02T13:04:19.077Z"
   },
   {
    "duration": 10,
    "start_time": "2022-01-02T13:04:19.140Z"
   },
   {
    "duration": 5655,
    "start_time": "2022-01-02T13:04:19.152Z"
   },
   {
    "duration": 21,
    "start_time": "2022-01-02T13:04:24.810Z"
   },
   {
    "duration": 27,
    "start_time": "2022-01-02T13:04:24.833Z"
   },
   {
    "duration": 8,
    "start_time": "2022-01-02T13:04:24.862Z"
   },
   {
    "duration": 9,
    "start_time": "2022-01-02T13:04:24.872Z"
   },
   {
    "duration": 615,
    "start_time": "2022-01-02T13:04:24.922Z"
   },
   {
    "duration": 10,
    "start_time": "2022-01-02T13:04:25.540Z"
   },
   {
    "duration": 9,
    "start_time": "2022-01-02T13:04:25.553Z"
   },
   {
    "duration": 11,
    "start_time": "2022-01-02T13:04:25.565Z"
   },
   {
    "duration": 50,
    "start_time": "2022-01-02T13:04:25.581Z"
   },
   {
    "duration": 67,
    "start_time": "2022-01-02T13:05:02.525Z"
   },
   {
    "duration": 69,
    "start_time": "2022-01-02T13:05:28.194Z"
   },
   {
    "duration": 7,
    "start_time": "2022-01-02T13:17:51.275Z"
   },
   {
    "duration": 10,
    "start_time": "2022-01-02T13:18:15.196Z"
   },
   {
    "duration": 5,
    "start_time": "2022-01-02T13:26:07.831Z"
   },
   {
    "duration": 6,
    "start_time": "2022-01-02T13:29:09.135Z"
   },
   {
    "duration": 13,
    "start_time": "2022-01-02T13:29:47.868Z"
   },
   {
    "duration": 5378,
    "start_time": "2022-01-02T13:57:30.464Z"
   },
   {
    "duration": 700,
    "start_time": "2022-01-02T13:58:02.151Z"
   },
   {
    "duration": 82,
    "start_time": "2022-01-02T13:58:02.854Z"
   },
   {
    "duration": 47,
    "start_time": "2022-01-02T13:58:02.939Z"
   },
   {
    "duration": 36,
    "start_time": "2022-01-02T13:58:02.989Z"
   },
   {
    "duration": 5495,
    "start_time": "2022-01-02T13:58:03.028Z"
   },
   {
    "duration": 613,
    "start_time": "2022-01-02T13:58:07.915Z"
   },
   {
    "duration": 607,
    "start_time": "2022-01-02T13:58:07.922Z"
   },
   {
    "duration": 600,
    "start_time": "2022-01-02T13:58:07.931Z"
   },
   {
    "duration": 594,
    "start_time": "2022-01-02T13:58:07.938Z"
   },
   {
    "duration": 590,
    "start_time": "2022-01-02T13:58:07.944Z"
   },
   {
    "duration": 586,
    "start_time": "2022-01-02T13:58:07.949Z"
   },
   {
    "duration": 582,
    "start_time": "2022-01-02T13:58:07.955Z"
   },
   {
    "duration": 578,
    "start_time": "2022-01-02T13:58:07.960Z"
   },
   {
    "duration": 575,
    "start_time": "2022-01-02T13:58:07.965Z"
   },
   {
    "duration": 571,
    "start_time": "2022-01-02T13:58:07.970Z"
   },
   {
    "duration": 542,
    "start_time": "2022-01-02T13:58:08.000Z"
   },
   {
    "duration": 535,
    "start_time": "2022-01-02T13:58:08.008Z"
   },
   {
    "duration": 530,
    "start_time": "2022-01-02T13:58:08.015Z"
   },
   {
    "duration": 526,
    "start_time": "2022-01-02T13:58:08.020Z"
   },
   {
    "duration": 522,
    "start_time": "2022-01-02T13:58:08.025Z"
   },
   {
    "duration": 518,
    "start_time": "2022-01-02T13:58:08.031Z"
   },
   {
    "duration": 512,
    "start_time": "2022-01-02T13:58:08.038Z"
   },
   {
    "duration": 508,
    "start_time": "2022-01-02T13:58:08.043Z"
   },
   {
    "duration": 13,
    "start_time": "2022-01-02T13:58:41.297Z"
   },
   {
    "duration": 13,
    "start_time": "2022-01-02T13:59:01.341Z"
   },
   {
    "duration": 56,
    "start_time": "2022-01-02T14:00:15.961Z"
   },
   {
    "duration": 6632,
    "start_time": "2022-01-02T14:00:56.897Z"
   },
   {
    "duration": 17,
    "start_time": "2022-01-02T14:02:44.237Z"
   },
   {
    "duration": 7,
    "start_time": "2022-01-02T14:03:19.022Z"
   },
   {
    "duration": 53,
    "start_time": "2022-01-02T14:04:04.363Z"
   },
   {
    "duration": 704,
    "start_time": "2022-01-02T14:04:37.855Z"
   },
   {
    "duration": 81,
    "start_time": "2022-01-02T14:04:38.562Z"
   },
   {
    "duration": 50,
    "start_time": "2022-01-02T14:04:38.646Z"
   },
   {
    "duration": 30,
    "start_time": "2022-01-02T14:04:38.699Z"
   },
   {
    "duration": 16,
    "start_time": "2022-01-02T14:04:38.732Z"
   },
   {
    "duration": 7,
    "start_time": "2022-01-02T14:04:38.750Z"
   },
   {
    "duration": 83,
    "start_time": "2022-01-02T14:04:38.759Z"
   },
   {
    "duration": 6361,
    "start_time": "2022-01-02T14:04:38.846Z"
   },
   {
    "duration": 607,
    "start_time": "2022-01-02T14:04:44.603Z"
   },
   {
    "duration": 573,
    "start_time": "2022-01-02T14:04:44.639Z"
   },
   {
    "duration": 566,
    "start_time": "2022-01-02T14:04:44.647Z"
   },
   {
    "duration": 562,
    "start_time": "2022-01-02T14:04:44.653Z"
   },
   {
    "duration": 557,
    "start_time": "2022-01-02T14:04:44.659Z"
   },
   {
    "duration": 553,
    "start_time": "2022-01-02T14:04:44.665Z"
   },
   {
    "duration": 549,
    "start_time": "2022-01-02T14:04:44.670Z"
   },
   {
    "duration": 546,
    "start_time": "2022-01-02T14:04:44.675Z"
   },
   {
    "duration": 542,
    "start_time": "2022-01-02T14:04:44.681Z"
   },
   {
    "duration": 539,
    "start_time": "2022-01-02T14:04:44.685Z"
   },
   {
    "duration": 535,
    "start_time": "2022-01-02T14:04:44.691Z"
   },
   {
    "duration": 531,
    "start_time": "2022-01-02T14:04:44.696Z"
   },
   {
    "duration": 528,
    "start_time": "2022-01-02T14:04:44.701Z"
   },
   {
    "duration": 523,
    "start_time": "2022-01-02T14:04:44.707Z"
   },
   {
    "duration": 520,
    "start_time": "2022-01-02T14:04:44.712Z"
   },
   {
    "duration": 23,
    "start_time": "2022-01-02T14:16:11.964Z"
   },
   {
    "duration": 13,
    "start_time": "2022-01-02T14:16:16.434Z"
   },
   {
    "duration": 12,
    "start_time": "2022-01-02T14:17:20.649Z"
   },
   {
    "duration": 301,
    "start_time": "2022-01-02T14:19:11.930Z"
   },
   {
    "duration": 13,
    "start_time": "2022-01-02T14:26:36.241Z"
   },
   {
    "duration": 724,
    "start_time": "2022-01-02T14:34:10.887Z"
   },
   {
    "duration": 78,
    "start_time": "2022-01-02T14:34:11.613Z"
   },
   {
    "duration": 91,
    "start_time": "2022-01-02T14:34:11.694Z"
   },
   {
    "duration": 17,
    "start_time": "2022-01-02T14:34:11.793Z"
   },
   {
    "duration": 113,
    "start_time": "2022-01-02T14:34:11.813Z"
   },
   {
    "duration": 11,
    "start_time": "2022-01-02T14:34:11.928Z"
   },
   {
    "duration": 56,
    "start_time": "2022-01-02T14:34:11.942Z"
   },
   {
    "duration": 5607,
    "start_time": "2022-01-02T14:34:12.002Z"
   },
   {
    "duration": 607,
    "start_time": "2022-01-02T14:34:17.005Z"
   },
   {
    "duration": 599,
    "start_time": "2022-01-02T14:34:17.015Z"
   },
   {
    "duration": 589,
    "start_time": "2022-01-02T14:34:17.026Z"
   },
   {
    "duration": 584,
    "start_time": "2022-01-02T14:34:17.032Z"
   },
   {
    "duration": 580,
    "start_time": "2022-01-02T14:34:17.038Z"
   },
   {
    "duration": 575,
    "start_time": "2022-01-02T14:34:17.044Z"
   },
   {
    "duration": 570,
    "start_time": "2022-01-02T14:34:17.051Z"
   },
   {
    "duration": 565,
    "start_time": "2022-01-02T14:34:17.057Z"
   },
   {
    "duration": 561,
    "start_time": "2022-01-02T14:34:17.062Z"
   },
   {
    "duration": 557,
    "start_time": "2022-01-02T14:34:17.068Z"
   },
   {
    "duration": 514,
    "start_time": "2022-01-02T14:34:17.112Z"
   },
   {
    "duration": 509,
    "start_time": "2022-01-02T14:34:17.119Z"
   },
   {
    "duration": 501,
    "start_time": "2022-01-02T14:34:17.128Z"
   },
   {
    "duration": 495,
    "start_time": "2022-01-02T14:34:17.136Z"
   },
   {
    "duration": 489,
    "start_time": "2022-01-02T14:34:17.144Z"
   },
   {
    "duration": 5580,
    "start_time": "2022-01-02T14:35:09.850Z"
   },
   {
    "duration": 6977,
    "start_time": "2022-01-02T14:35:53.304Z"
   },
   {
    "duration": 799,
    "start_time": "2022-01-02T14:36:43.703Z"
   },
   {
    "duration": 81,
    "start_time": "2022-01-02T14:36:44.505Z"
   },
   {
    "duration": 65,
    "start_time": "2022-01-02T14:36:44.590Z"
   },
   {
    "duration": 12,
    "start_time": "2022-01-02T14:36:44.657Z"
   },
   {
    "duration": 15,
    "start_time": "2022-01-02T14:36:44.672Z"
   },
   {
    "duration": 36,
    "start_time": "2022-01-02T14:36:44.689Z"
   },
   {
    "duration": 54,
    "start_time": "2022-01-02T14:36:44.728Z"
   },
   {
    "duration": 5386,
    "start_time": "2022-01-02T14:36:44.786Z"
   },
   {
    "duration": 506,
    "start_time": "2022-01-02T14:36:49.669Z"
   },
   {
    "duration": 499,
    "start_time": "2022-01-02T14:36:49.677Z"
   },
   {
    "duration": 492,
    "start_time": "2022-01-02T14:36:49.685Z"
   },
   {
    "duration": 487,
    "start_time": "2022-01-02T14:36:49.692Z"
   },
   {
    "duration": 482,
    "start_time": "2022-01-02T14:36:49.698Z"
   },
   {
    "duration": 479,
    "start_time": "2022-01-02T14:36:49.703Z"
   },
   {
    "duration": 476,
    "start_time": "2022-01-02T14:36:49.707Z"
   },
   {
    "duration": 472,
    "start_time": "2022-01-02T14:36:49.712Z"
   },
   {
    "duration": 469,
    "start_time": "2022-01-02T14:36:49.717Z"
   },
   {
    "duration": 465,
    "start_time": "2022-01-02T14:36:49.722Z"
   },
   {
    "duration": 462,
    "start_time": "2022-01-02T14:36:49.727Z"
   },
   {
    "duration": 456,
    "start_time": "2022-01-02T14:36:49.734Z"
   },
   {
    "duration": 453,
    "start_time": "2022-01-02T14:36:49.738Z"
   },
   {
    "duration": 450,
    "start_time": "2022-01-02T14:36:49.743Z"
   },
   {
    "duration": 448,
    "start_time": "2022-01-02T14:36:49.748Z"
   },
   {
    "duration": 315,
    "start_time": "2022-01-02T14:37:16.844Z"
   },
   {
    "duration": 316,
    "start_time": "2022-01-02T14:39:31.290Z"
   },
   {
    "duration": 394,
    "start_time": "2022-01-02T14:40:12.365Z"
   },
   {
    "duration": 5355,
    "start_time": "2022-01-02T14:40:53.565Z"
   },
   {
    "duration": 697,
    "start_time": "2022-01-02T14:41:10.052Z"
   },
   {
    "duration": 81,
    "start_time": "2022-01-02T14:41:10.751Z"
   },
   {
    "duration": 45,
    "start_time": "2022-01-02T14:41:10.835Z"
   },
   {
    "duration": 10,
    "start_time": "2022-01-02T14:41:10.883Z"
   },
   {
    "duration": 39,
    "start_time": "2022-01-02T14:41:10.896Z"
   },
   {
    "duration": 6,
    "start_time": "2022-01-02T14:41:10.937Z"
   },
   {
    "duration": 55,
    "start_time": "2022-01-02T14:41:10.945Z"
   },
   {
    "duration": 5819,
    "start_time": "2022-01-02T14:41:11.026Z"
   },
   {
    "duration": 609,
    "start_time": "2022-01-02T14:41:16.239Z"
   },
   {
    "duration": 603,
    "start_time": "2022-01-02T14:41:16.246Z"
   },
   {
    "duration": 598,
    "start_time": "2022-01-02T14:41:16.253Z"
   },
   {
    "duration": 593,
    "start_time": "2022-01-02T14:41:16.259Z"
   },
   {
    "duration": 587,
    "start_time": "2022-01-02T14:41:16.267Z"
   },
   {
    "duration": 583,
    "start_time": "2022-01-02T14:41:16.272Z"
   },
   {
    "duration": 579,
    "start_time": "2022-01-02T14:41:16.277Z"
   },
   {
    "duration": 576,
    "start_time": "2022-01-02T14:41:16.282Z"
   },
   {
    "duration": 574,
    "start_time": "2022-01-02T14:41:16.286Z"
   },
   {
    "duration": 571,
    "start_time": "2022-01-02T14:41:16.290Z"
   },
   {
    "duration": 566,
    "start_time": "2022-01-02T14:41:16.297Z"
   },
   {
    "duration": 562,
    "start_time": "2022-01-02T14:41:16.302Z"
   },
   {
    "duration": 531,
    "start_time": "2022-01-02T14:41:16.335Z"
   },
   {
    "duration": 525,
    "start_time": "2022-01-02T14:41:16.342Z"
   },
   {
    "duration": 519,
    "start_time": "2022-01-02T14:41:16.349Z"
   },
   {
    "duration": 20,
    "start_time": "2022-01-02T14:46:27.822Z"
   },
   {
    "duration": 25,
    "start_time": "2022-01-02T14:46:42.183Z"
   },
   {
    "duration": 19,
    "start_time": "2022-01-02T14:46:53.507Z"
   },
   {
    "duration": 24,
    "start_time": "2022-01-02T14:47:02.156Z"
   },
   {
    "duration": 21,
    "start_time": "2022-01-02T14:51:01.680Z"
   },
   {
    "duration": 15,
    "start_time": "2022-01-02T14:51:44.393Z"
   },
   {
    "duration": 298,
    "start_time": "2022-01-02T14:53:52.483Z"
   },
   {
    "duration": 145,
    "start_time": "2022-01-02T14:54:40.473Z"
   },
   {
    "duration": 821,
    "start_time": "2022-01-02T14:55:29.777Z"
   },
   {
    "duration": 92,
    "start_time": "2022-01-02T14:55:30.601Z"
   },
   {
    "duration": 56,
    "start_time": "2022-01-02T14:55:30.695Z"
   },
   {
    "duration": 14,
    "start_time": "2022-01-02T14:55:30.755Z"
   },
   {
    "duration": 28,
    "start_time": "2022-01-02T14:55:30.772Z"
   },
   {
    "duration": 26,
    "start_time": "2022-01-02T14:55:30.802Z"
   },
   {
    "duration": 61,
    "start_time": "2022-01-02T14:55:30.832Z"
   },
   {
    "duration": 184,
    "start_time": "2022-01-02T14:55:30.899Z"
   },
   {
    "duration": 8,
    "start_time": "2022-01-02T14:55:31.087Z"
   },
   {
    "duration": 400,
    "start_time": "2022-01-02T14:55:31.098Z"
   },
   {
    "duration": 657,
    "start_time": "2022-01-02T14:55:30.845Z"
   },
   {
    "duration": 652,
    "start_time": "2022-01-02T14:55:30.852Z"
   },
   {
    "duration": 648,
    "start_time": "2022-01-02T14:55:30.858Z"
   },
   {
    "duration": 644,
    "start_time": "2022-01-02T14:55:30.864Z"
   },
   {
    "duration": 639,
    "start_time": "2022-01-02T14:55:30.871Z"
   },
   {
    "duration": 635,
    "start_time": "2022-01-02T14:55:30.877Z"
   },
   {
    "duration": 632,
    "start_time": "2022-01-02T14:55:30.882Z"
   },
   {
    "duration": 628,
    "start_time": "2022-01-02T14:55:30.888Z"
   },
   {
    "duration": 625,
    "start_time": "2022-01-02T14:55:30.893Z"
   },
   {
    "duration": 620,
    "start_time": "2022-01-02T14:55:30.900Z"
   },
   {
    "duration": 618,
    "start_time": "2022-01-02T14:55:30.905Z"
   },
   {
    "duration": 614,
    "start_time": "2022-01-02T14:55:30.910Z"
   },
   {
    "duration": 610,
    "start_time": "2022-01-02T14:55:30.916Z"
   },
   {
    "duration": 168,
    "start_time": "2022-01-02T14:55:52.936Z"
   },
   {
    "duration": 66,
    "start_time": "2022-01-02T14:56:18.035Z"
   },
   {
    "duration": 727,
    "start_time": "2022-01-02T14:56:27.388Z"
   },
   {
    "duration": 101,
    "start_time": "2022-01-02T14:56:28.117Z"
   },
   {
    "duration": 49,
    "start_time": "2022-01-02T14:56:28.221Z"
   },
   {
    "duration": 14,
    "start_time": "2022-01-02T14:56:28.273Z"
   },
   {
    "duration": 42,
    "start_time": "2022-01-02T14:56:28.289Z"
   },
   {
    "duration": 7,
    "start_time": "2022-01-02T14:56:28.333Z"
   },
   {
    "duration": 82,
    "start_time": "2022-01-02T14:56:28.342Z"
   },
   {
    "duration": 67,
    "start_time": "2022-01-02T14:56:28.428Z"
   },
   {
    "duration": 26,
    "start_time": "2022-01-02T14:56:28.498Z"
   },
   {
    "duration": 376,
    "start_time": "2022-01-02T14:56:28.527Z"
   },
   {
    "duration": 651,
    "start_time": "2022-01-02T14:56:28.255Z"
   },
   {
    "duration": 642,
    "start_time": "2022-01-02T14:56:28.265Z"
   },
   {
    "duration": 639,
    "start_time": "2022-01-02T14:56:28.270Z"
   },
   {
    "duration": 630,
    "start_time": "2022-01-02T14:56:28.280Z"
   },
   {
    "duration": 625,
    "start_time": "2022-01-02T14:56:28.286Z"
   },
   {
    "duration": 622,
    "start_time": "2022-01-02T14:56:28.291Z"
   },
   {
    "duration": 615,
    "start_time": "2022-01-02T14:56:28.299Z"
   },
   {
    "duration": 612,
    "start_time": "2022-01-02T14:56:28.304Z"
   },
   {
    "duration": 602,
    "start_time": "2022-01-02T14:56:28.315Z"
   },
   {
    "duration": 599,
    "start_time": "2022-01-02T14:56:28.320Z"
   },
   {
    "duration": 588,
    "start_time": "2022-01-02T14:56:28.332Z"
   },
   {
    "duration": 584,
    "start_time": "2022-01-02T14:56:28.338Z"
   },
   {
    "duration": 580,
    "start_time": "2022-01-02T14:56:28.343Z"
   },
   {
    "duration": 72,
    "start_time": "2022-01-02T14:57:29.376Z"
   },
   {
    "duration": 705,
    "start_time": "2022-01-02T14:57:41.642Z"
   },
   {
    "duration": 82,
    "start_time": "2022-01-02T14:57:42.350Z"
   },
   {
    "duration": 48,
    "start_time": "2022-01-02T14:57:42.435Z"
   },
   {
    "duration": 13,
    "start_time": "2022-01-02T14:57:42.485Z"
   },
   {
    "duration": 17,
    "start_time": "2022-01-02T14:57:42.524Z"
   },
   {
    "duration": 8,
    "start_time": "2022-01-02T14:57:42.543Z"
   },
   {
    "duration": 77,
    "start_time": "2022-01-02T14:57:42.554Z"
   },
   {
    "duration": 67,
    "start_time": "2022-01-02T14:57:42.635Z"
   },
   {
    "duration": 6,
    "start_time": "2022-01-02T14:57:42.724Z"
   },
   {
    "duration": 366,
    "start_time": "2022-01-02T14:57:42.732Z"
   },
   {
    "duration": 654,
    "start_time": "2022-01-02T14:57:42.447Z"
   },
   {
    "duration": 648,
    "start_time": "2022-01-02T14:57:42.454Z"
   },
   {
    "duration": 643,
    "start_time": "2022-01-02T14:57:42.460Z"
   },
   {
    "duration": 639,
    "start_time": "2022-01-02T14:57:42.466Z"
   },
   {
    "duration": 635,
    "start_time": "2022-01-02T14:57:42.471Z"
   },
   {
    "duration": 631,
    "start_time": "2022-01-02T14:57:42.477Z"
   },
   {
    "duration": 627,
    "start_time": "2022-01-02T14:57:42.482Z"
   },
   {
    "duration": 624,
    "start_time": "2022-01-02T14:57:42.487Z"
   },
   {
    "duration": 619,
    "start_time": "2022-01-02T14:57:42.493Z"
   },
   {
    "duration": 616,
    "start_time": "2022-01-02T14:57:42.498Z"
   },
   {
    "duration": 613,
    "start_time": "2022-01-02T14:57:42.503Z"
   },
   {
    "duration": 607,
    "start_time": "2022-01-02T14:57:42.510Z"
   },
   {
    "duration": 603,
    "start_time": "2022-01-02T14:57:42.516Z"
   },
   {
    "duration": 739,
    "start_time": "2022-01-02T16:20:09.654Z"
   },
   {
    "duration": 81,
    "start_time": "2022-01-02T16:20:10.396Z"
   },
   {
    "duration": 66,
    "start_time": "2022-01-02T16:20:10.479Z"
   },
   {
    "duration": 11,
    "start_time": "2022-01-02T16:20:10.547Z"
   },
   {
    "duration": 18,
    "start_time": "2022-01-02T16:20:10.560Z"
   },
   {
    "duration": 8,
    "start_time": "2022-01-02T16:20:10.580Z"
   },
   {
    "duration": 78,
    "start_time": "2022-01-02T16:20:10.590Z"
   },
   {
    "duration": 81,
    "start_time": "2022-01-02T16:20:10.671Z"
   },
   {
    "duration": 5,
    "start_time": "2022-01-02T16:20:10.755Z"
   },
   {
    "duration": 467,
    "start_time": "2022-01-02T16:20:10.763Z"
   },
   {
    "duration": -40,
    "start_time": "2022-01-02T16:20:11.272Z"
   },
   {
    "duration": -42,
    "start_time": "2022-01-02T16:20:11.276Z"
   },
   {
    "duration": -48,
    "start_time": "2022-01-02T16:20:11.283Z"
   },
   {
    "duration": -55,
    "start_time": "2022-01-02T16:20:11.291Z"
   },
   {
    "duration": -58,
    "start_time": "2022-01-02T16:20:11.296Z"
   },
   {
    "duration": -62,
    "start_time": "2022-01-02T16:20:11.301Z"
   },
   {
    "duration": -68,
    "start_time": "2022-01-02T16:20:11.308Z"
   },
   {
    "duration": -73,
    "start_time": "2022-01-02T16:20:11.314Z"
   },
   {
    "duration": -78,
    "start_time": "2022-01-02T16:20:11.321Z"
   },
   {
    "duration": -82,
    "start_time": "2022-01-02T16:20:11.326Z"
   },
   {
    "duration": -86,
    "start_time": "2022-01-02T16:20:11.331Z"
   },
   {
    "duration": -92,
    "start_time": "2022-01-02T16:20:11.339Z"
   },
   {
    "duration": -96,
    "start_time": "2022-01-02T16:20:11.344Z"
   },
   {
    "duration": 5197,
    "start_time": "2022-01-02T16:22:53.845Z"
   },
   {
    "duration": 109,
    "start_time": "2022-01-02T16:23:17.423Z"
   },
   {
    "duration": 74,
    "start_time": "2022-01-02T16:23:22.914Z"
   },
   {
    "duration": 88,
    "start_time": "2022-01-02T16:25:16.425Z"
   },
   {
    "duration": 70,
    "start_time": "2022-01-02T16:28:56.952Z"
   },
   {
    "duration": 72,
    "start_time": "2022-01-02T16:29:42.876Z"
   },
   {
    "duration": 729,
    "start_time": "2022-01-02T16:29:56.809Z"
   },
   {
    "duration": 82,
    "start_time": "2022-01-02T16:29:57.541Z"
   },
   {
    "duration": 48,
    "start_time": "2022-01-02T16:29:57.627Z"
   },
   {
    "duration": 14,
    "start_time": "2022-01-02T16:29:57.678Z"
   },
   {
    "duration": 40,
    "start_time": "2022-01-02T16:29:57.695Z"
   },
   {
    "duration": 9,
    "start_time": "2022-01-02T16:29:57.737Z"
   },
   {
    "duration": 78,
    "start_time": "2022-01-02T16:29:57.749Z"
   },
   {
    "duration": 72,
    "start_time": "2022-01-02T16:29:57.830Z"
   },
   {
    "duration": 23,
    "start_time": "2022-01-02T16:29:57.905Z"
   },
   {
    "duration": 420,
    "start_time": "2022-01-02T16:29:57.931Z"
   },
   {
    "duration": -46,
    "start_time": "2022-01-02T16:29:58.401Z"
   },
   {
    "duration": -53,
    "start_time": "2022-01-02T16:29:58.410Z"
   },
   {
    "duration": -57,
    "start_time": "2022-01-02T16:29:58.416Z"
   },
   {
    "duration": -60,
    "start_time": "2022-01-02T16:29:58.421Z"
   },
   {
    "duration": -63,
    "start_time": "2022-01-02T16:29:58.427Z"
   },
   {
    "duration": -66,
    "start_time": "2022-01-02T16:29:58.432Z"
   },
   {
    "duration": -69,
    "start_time": "2022-01-02T16:29:58.437Z"
   },
   {
    "duration": -73,
    "start_time": "2022-01-02T16:29:58.443Z"
   },
   {
    "duration": -75,
    "start_time": "2022-01-02T16:29:58.448Z"
   },
   {
    "duration": -78,
    "start_time": "2022-01-02T16:29:58.453Z"
   },
   {
    "duration": -80,
    "start_time": "2022-01-02T16:29:58.457Z"
   },
   {
    "duration": -83,
    "start_time": "2022-01-02T16:29:58.462Z"
   },
   {
    "duration": -94,
    "start_time": "2022-01-02T16:29:58.475Z"
   },
   {
    "duration": 6,
    "start_time": "2022-01-02T16:35:52.540Z"
   },
   {
    "duration": 9,
    "start_time": "2022-01-02T16:36:02.076Z"
   },
   {
    "duration": 115,
    "start_time": "2022-01-02T16:40:14.257Z"
   },
   {
    "duration": 1270,
    "start_time": "2022-01-02T16:41:18.433Z"
   },
   {
    "duration": 2020,
    "start_time": "2022-01-02T16:45:25.429Z"
   },
   {
    "duration": 1146,
    "start_time": "2022-01-02T16:46:39.501Z"
   },
   {
    "duration": 9,
    "start_time": "2022-01-02T16:59:15.667Z"
   },
   {
    "duration": 723,
    "start_time": "2022-01-02T16:59:28.399Z"
   },
   {
    "duration": 76,
    "start_time": "2022-01-02T16:59:29.125Z"
   },
   {
    "duration": 46,
    "start_time": "2022-01-02T16:59:29.204Z"
   },
   {
    "duration": 12,
    "start_time": "2022-01-02T16:59:29.254Z"
   },
   {
    "duration": 19,
    "start_time": "2022-01-02T16:59:29.268Z"
   },
   {
    "duration": 36,
    "start_time": "2022-01-02T16:59:29.289Z"
   },
   {
    "duration": 50,
    "start_time": "2022-01-02T16:59:29.328Z"
   },
   {
    "duration": 9,
    "start_time": "2022-01-02T16:59:29.382Z"
   },
   {
    "duration": 33,
    "start_time": "2022-01-02T16:59:29.394Z"
   },
   {
    "duration": 377,
    "start_time": "2022-01-02T16:59:29.429Z"
   },
   {
    "duration": -13,
    "start_time": "2022-01-02T16:59:29.821Z"
   },
   {
    "duration": -18,
    "start_time": "2022-01-02T16:59:29.828Z"
   },
   {
    "duration": -23,
    "start_time": "2022-01-02T16:59:29.834Z"
   },
   {
    "duration": -27,
    "start_time": "2022-01-02T16:59:29.839Z"
   },
   {
    "duration": -30,
    "start_time": "2022-01-02T16:59:29.844Z"
   },
   {
    "duration": -34,
    "start_time": "2022-01-02T16:59:29.849Z"
   },
   {
    "duration": -38,
    "start_time": "2022-01-02T16:59:29.855Z"
   },
   {
    "duration": -42,
    "start_time": "2022-01-02T16:59:29.860Z"
   },
   {
    "duration": -46,
    "start_time": "2022-01-02T16:59:29.866Z"
   },
   {
    "duration": -49,
    "start_time": "2022-01-02T16:59:29.870Z"
   },
   {
    "duration": -52,
    "start_time": "2022-01-02T16:59:29.875Z"
   },
   {
    "duration": -56,
    "start_time": "2022-01-02T16:59:29.880Z"
   },
   {
    "duration": -58,
    "start_time": "2022-01-02T16:59:29.884Z"
   },
   {
    "duration": 8,
    "start_time": "2022-01-02T16:59:42.188Z"
   },
   {
    "duration": 10,
    "start_time": "2022-01-02T17:00:21.158Z"
   },
   {
    "duration": 175,
    "start_time": "2022-01-02T17:02:04.857Z"
   },
   {
    "duration": 167,
    "start_time": "2022-01-02T17:03:33.731Z"
   },
   {
    "duration": 259,
    "start_time": "2022-01-02T17:04:04.175Z"
   },
   {
    "duration": 716,
    "start_time": "2022-01-02T17:04:44.762Z"
   },
   {
    "duration": 81,
    "start_time": "2022-01-02T17:04:45.481Z"
   },
   {
    "duration": 70,
    "start_time": "2022-01-02T17:04:45.566Z"
   },
   {
    "duration": 13,
    "start_time": "2022-01-02T17:04:45.640Z"
   },
   {
    "duration": 21,
    "start_time": "2022-01-02T17:04:45.656Z"
   },
   {
    "duration": 6,
    "start_time": "2022-01-02T17:04:45.680Z"
   },
   {
    "duration": 100,
    "start_time": "2022-01-02T17:04:45.689Z"
   },
   {
    "duration": 215,
    "start_time": "2022-01-02T17:04:45.793Z"
   },
   {
    "duration": 16,
    "start_time": "2022-01-02T17:04:46.011Z"
   },
   {
    "duration": 12,
    "start_time": "2022-01-02T17:04:46.029Z"
   },
   {
    "duration": 26,
    "start_time": "2022-01-02T17:04:46.044Z"
   },
   {
    "duration": 98,
    "start_time": "2022-01-02T17:04:46.072Z"
   },
   {
    "duration": 10,
    "start_time": "2022-01-02T17:04:46.172Z"
   },
   {
    "duration": 6859,
    "start_time": "2022-01-02T17:04:46.184Z"
   },
   {
    "duration": 15,
    "start_time": "2022-01-02T17:04:53.046Z"
   },
   {
    "duration": 27,
    "start_time": "2022-01-02T17:04:53.065Z"
   },
   {
    "duration": 36,
    "start_time": "2022-01-02T17:04:53.094Z"
   },
   {
    "duration": 15,
    "start_time": "2022-01-02T17:04:53.132Z"
   },
   {
    "duration": 768,
    "start_time": "2022-01-02T17:04:53.165Z"
   },
   {
    "duration": 10,
    "start_time": "2022-01-02T17:04:53.936Z"
   },
   {
    "duration": 11,
    "start_time": "2022-01-02T17:04:53.949Z"
   },
   {
    "duration": 11,
    "start_time": "2022-01-02T17:04:53.963Z"
   },
   {
    "duration": 52,
    "start_time": "2022-01-02T17:04:53.978Z"
   },
   {
    "duration": 420,
    "start_time": "2022-01-02T17:05:32.062Z"
   },
   {
    "duration": 335,
    "start_time": "2022-01-02T17:05:52.842Z"
   },
   {
    "duration": 106,
    "start_time": "2022-01-02T17:05:56.624Z"
   },
   {
    "duration": 380,
    "start_time": "2022-01-02T17:06:29.062Z"
   },
   {
    "duration": 928,
    "start_time": "2022-01-02T17:06:40.851Z"
   },
   {
    "duration": 116,
    "start_time": "2022-01-02T17:06:41.782Z"
   },
   {
    "duration": 75,
    "start_time": "2022-01-02T17:06:41.902Z"
   },
   {
    "duration": 18,
    "start_time": "2022-01-02T17:06:41.981Z"
   },
   {
    "duration": 26,
    "start_time": "2022-01-02T17:06:42.022Z"
   },
   {
    "duration": 9,
    "start_time": "2022-01-02T17:06:42.051Z"
   },
   {
    "duration": 79,
    "start_time": "2022-01-02T17:06:42.064Z"
   },
   {
    "duration": 390,
    "start_time": "2022-01-02T17:06:42.147Z"
   },
   {
    "duration": -7,
    "start_time": "2022-01-02T17:06:42.548Z"
   },
   {
    "duration": -11,
    "start_time": "2022-01-02T17:06:42.554Z"
   },
   {
    "duration": -14,
    "start_time": "2022-01-02T17:06:42.559Z"
   },
   {
    "duration": -18,
    "start_time": "2022-01-02T17:06:42.565Z"
   },
   {
    "duration": -21,
    "start_time": "2022-01-02T17:06:42.570Z"
   },
   {
    "duration": -28,
    "start_time": "2022-01-02T17:06:42.579Z"
   },
   {
    "duration": -31,
    "start_time": "2022-01-02T17:06:42.585Z"
   },
   {
    "duration": -59,
    "start_time": "2022-01-02T17:06:42.615Z"
   },
   {
    "duration": -67,
    "start_time": "2022-01-02T17:06:42.625Z"
   },
   {
    "duration": -69,
    "start_time": "2022-01-02T17:06:42.630Z"
   },
   {
    "duration": -73,
    "start_time": "2022-01-02T17:06:42.636Z"
   },
   {
    "duration": -77,
    "start_time": "2022-01-02T17:06:42.642Z"
   },
   {
    "duration": -79,
    "start_time": "2022-01-02T17:06:42.647Z"
   },
   {
    "duration": -84,
    "start_time": "2022-01-02T17:06:42.654Z"
   },
   {
    "duration": -88,
    "start_time": "2022-01-02T17:06:42.660Z"
   },
   {
    "duration": 311,
    "start_time": "2022-01-02T17:06:55.348Z"
   },
   {
    "duration": 65,
    "start_time": "2022-01-02T17:07:22.498Z"
   },
   {
    "duration": 788,
    "start_time": "2022-01-02T17:07:34.398Z"
   },
   {
    "duration": 81,
    "start_time": "2022-01-02T17:07:35.188Z"
   },
   {
    "duration": 61,
    "start_time": "2022-01-02T17:07:35.272Z"
   },
   {
    "duration": 11,
    "start_time": "2022-01-02T17:07:35.336Z"
   },
   {
    "duration": 15,
    "start_time": "2022-01-02T17:07:35.350Z"
   },
   {
    "duration": 6,
    "start_time": "2022-01-02T17:07:35.367Z"
   },
   {
    "duration": 87,
    "start_time": "2022-01-02T17:07:35.375Z"
   },
   {
    "duration": 72,
    "start_time": "2022-01-02T17:07:35.466Z"
   },
   {
    "duration": 6,
    "start_time": "2022-01-02T17:07:35.541Z"
   },
   {
    "duration": 397,
    "start_time": "2022-01-02T17:07:35.549Z"
   },
   {
    "duration": -4,
    "start_time": "2022-01-02T17:07:35.953Z"
   },
   {
    "duration": -8,
    "start_time": "2022-01-02T17:07:35.958Z"
   },
   {
    "duration": -12,
    "start_time": "2022-01-02T17:07:35.964Z"
   },
   {
    "duration": -16,
    "start_time": "2022-01-02T17:07:35.969Z"
   },
   {
    "duration": -18,
    "start_time": "2022-01-02T17:07:35.973Z"
   },
   {
    "duration": -23,
    "start_time": "2022-01-02T17:07:35.979Z"
   },
   {
    "duration": -26,
    "start_time": "2022-01-02T17:07:35.984Z"
   },
   {
    "duration": -30,
    "start_time": "2022-01-02T17:07:35.989Z"
   },
   {
    "duration": -33,
    "start_time": "2022-01-02T17:07:35.994Z"
   },
   {
    "duration": -38,
    "start_time": "2022-01-02T17:07:36.000Z"
   },
   {
    "duration": -40,
    "start_time": "2022-01-02T17:07:36.004Z"
   },
   {
    "duration": -43,
    "start_time": "2022-01-02T17:07:36.009Z"
   },
   {
    "duration": -47,
    "start_time": "2022-01-02T17:07:36.014Z"
   },
   {
    "duration": 91,
    "start_time": "2022-01-02T17:08:23.495Z"
   },
   {
    "duration": 122,
    "start_time": "2022-01-02T17:09:49.219Z"
   },
   {
    "duration": 100,
    "start_time": "2022-01-02T17:09:55.404Z"
   },
   {
    "duration": 743,
    "start_time": "2022-01-02T17:17:03.295Z"
   },
   {
    "duration": 82,
    "start_time": "2022-01-02T17:17:04.040Z"
   },
   {
    "duration": 45,
    "start_time": "2022-01-02T17:17:04.125Z"
   },
   {
    "duration": 14,
    "start_time": "2022-01-02T17:17:04.173Z"
   },
   {
    "duration": 44,
    "start_time": "2022-01-02T17:17:04.190Z"
   },
   {
    "duration": 7,
    "start_time": "2022-01-02T17:17:04.236Z"
   },
   {
    "duration": 79,
    "start_time": "2022-01-02T17:17:04.246Z"
   },
   {
    "duration": 64,
    "start_time": "2022-01-02T17:17:04.328Z"
   },
   {
    "duration": 6,
    "start_time": "2022-01-02T17:17:04.394Z"
   },
   {
    "duration": 386,
    "start_time": "2022-01-02T17:17:04.402Z"
   },
   {
    "duration": -18,
    "start_time": "2022-01-02T17:17:04.809Z"
   },
   {
    "duration": -23,
    "start_time": "2022-01-02T17:17:04.815Z"
   },
   {
    "duration": -27,
    "start_time": "2022-01-02T17:17:04.821Z"
   },
   {
    "duration": -30,
    "start_time": "2022-01-02T17:17:04.826Z"
   },
   {
    "duration": -34,
    "start_time": "2022-01-02T17:17:04.832Z"
   },
   {
    "duration": -38,
    "start_time": "2022-01-02T17:17:04.837Z"
   },
   {
    "duration": -42,
    "start_time": "2022-01-02T17:17:04.842Z"
   },
   {
    "duration": -46,
    "start_time": "2022-01-02T17:17:04.848Z"
   },
   {
    "duration": -50,
    "start_time": "2022-01-02T17:17:04.853Z"
   },
   {
    "duration": -53,
    "start_time": "2022-01-02T17:17:04.858Z"
   },
   {
    "duration": -59,
    "start_time": "2022-01-02T17:17:04.865Z"
   },
   {
    "duration": -64,
    "start_time": "2022-01-02T17:17:04.871Z"
   },
   {
    "duration": -67,
    "start_time": "2022-01-02T17:17:04.876Z"
   },
   {
    "duration": 62,
    "start_time": "2022-01-02T17:17:20.793Z"
   },
   {
    "duration": 93,
    "start_time": "2022-01-02T17:18:06.709Z"
   },
   {
    "duration": 163,
    "start_time": "2022-01-02T17:19:16.589Z"
   },
   {
    "duration": 59,
    "start_time": "2022-01-02T17:23:47.585Z"
   },
   {
    "duration": 731,
    "start_time": "2022-01-02T17:23:57.397Z"
   },
   {
    "duration": 112,
    "start_time": "2022-01-02T17:23:58.131Z"
   },
   {
    "duration": 54,
    "start_time": "2022-01-02T17:23:58.247Z"
   },
   {
    "duration": 15,
    "start_time": "2022-01-02T17:23:58.323Z"
   },
   {
    "duration": 18,
    "start_time": "2022-01-02T17:23:58.341Z"
   },
   {
    "duration": 11,
    "start_time": "2022-01-02T17:23:58.361Z"
   },
   {
    "duration": 90,
    "start_time": "2022-01-02T17:23:58.375Z"
   },
   {
    "duration": 65,
    "start_time": "2022-01-02T17:23:58.469Z"
   },
   {
    "duration": 6,
    "start_time": "2022-01-02T17:23:58.537Z"
   },
   {
    "duration": 370,
    "start_time": "2022-01-02T17:23:58.545Z"
   },
   {
    "duration": -4,
    "start_time": "2022-01-02T17:23:58.922Z"
   },
   {
    "duration": -11,
    "start_time": "2022-01-02T17:23:58.930Z"
   },
   {
    "duration": -15,
    "start_time": "2022-01-02T17:23:58.935Z"
   },
   {
    "duration": -18,
    "start_time": "2022-01-02T17:23:58.940Z"
   },
   {
    "duration": -22,
    "start_time": "2022-01-02T17:23:58.945Z"
   },
   {
    "duration": -33,
    "start_time": "2022-01-02T17:23:58.958Z"
   },
   {
    "duration": -41,
    "start_time": "2022-01-02T17:23:58.967Z"
   },
   {
    "duration": -45,
    "start_time": "2022-01-02T17:23:58.972Z"
   },
   {
    "duration": -48,
    "start_time": "2022-01-02T17:23:58.977Z"
   },
   {
    "duration": -53,
    "start_time": "2022-01-02T17:23:58.984Z"
   },
   {
    "duration": -57,
    "start_time": "2022-01-02T17:23:58.989Z"
   },
   {
    "duration": -61,
    "start_time": "2022-01-02T17:23:58.995Z"
   },
   {
    "duration": -65,
    "start_time": "2022-01-02T17:23:59.000Z"
   },
   {
    "duration": 1523,
    "start_time": "2022-01-02T18:16:04.203Z"
   },
   {
    "duration": 112,
    "start_time": "2022-01-02T18:20:28.031Z"
   },
   {
    "duration": 89,
    "start_time": "2022-01-02T18:20:45.202Z"
   },
   {
    "duration": 4282,
    "start_time": "2022-01-02T18:20:53.668Z"
   },
   {
    "duration": 497,
    "start_time": "2022-01-02T18:22:15.246Z"
   },
   {
    "duration": 99,
    "start_time": "2022-01-02T18:22:38.262Z"
   },
   {
    "duration": 97,
    "start_time": "2022-01-02T18:22:44.455Z"
   },
   {
    "duration": 553,
    "start_time": "2022-01-02T18:22:51.511Z"
   },
   {
    "duration": 484,
    "start_time": "2022-01-02T18:23:20.420Z"
   },
   {
    "duration": 4029,
    "start_time": "2022-01-02T18:23:33.177Z"
   },
   {
    "duration": 4019,
    "start_time": "2022-01-02T18:24:25.457Z"
   },
   {
    "duration": 11,
    "start_time": "2022-01-02T18:25:13.617Z"
   },
   {
    "duration": 16,
    "start_time": "2022-01-02T18:26:12.990Z"
   },
   {
    "duration": 17,
    "start_time": "2022-01-02T18:28:19.858Z"
   },
   {
    "duration": 17,
    "start_time": "2022-01-02T18:28:45.423Z"
   },
   {
    "duration": 1337,
    "start_time": "2022-01-02T18:29:04.317Z"
   },
   {
    "duration": 1347,
    "start_time": "2022-01-02T18:29:18.281Z"
   },
   {
    "duration": 1728,
    "start_time": "2022-01-02T18:30:10.057Z"
   },
   {
    "duration": 1900,
    "start_time": "2022-01-02T18:30:39.943Z"
   },
   {
    "duration": 1383,
    "start_time": "2022-01-02T18:30:53.741Z"
   },
   {
    "duration": 22,
    "start_time": "2022-01-02T18:32:41.433Z"
   },
   {
    "duration": 1134,
    "start_time": "2022-01-02T18:35:40.621Z"
   },
   {
    "duration": 497,
    "start_time": "2022-01-02T18:36:16.204Z"
   },
   {
    "duration": 6012,
    "start_time": "2022-01-02T18:36:39.372Z"
   },
   {
    "duration": 3667,
    "start_time": "2022-01-02T18:37:55.518Z"
   },
   {
    "duration": 757,
    "start_time": "2022-01-02T18:38:13.798Z"
   },
   {
    "duration": 83,
    "start_time": "2022-01-02T18:38:14.557Z"
   },
   {
    "duration": 50,
    "start_time": "2022-01-02T18:38:14.643Z"
   },
   {
    "duration": 39,
    "start_time": "2022-01-02T18:38:14.697Z"
   },
   {
    "duration": 19,
    "start_time": "2022-01-02T18:38:14.739Z"
   },
   {
    "duration": 9,
    "start_time": "2022-01-02T18:38:14.760Z"
   },
   {
    "duration": 96,
    "start_time": "2022-01-02T18:38:14.771Z"
   },
   {
    "duration": 614,
    "start_time": "2022-01-02T18:38:14.873Z"
   },
   {
    "duration": -34,
    "start_time": "2022-01-02T18:38:15.525Z"
   },
   {
    "duration": -39,
    "start_time": "2022-01-02T18:38:15.532Z"
   },
   {
    "duration": -43,
    "start_time": "2022-01-02T18:38:15.539Z"
   },
   {
    "duration": -47,
    "start_time": "2022-01-02T18:38:15.545Z"
   },
   {
    "duration": -50,
    "start_time": "2022-01-02T18:38:15.550Z"
   },
   {
    "duration": -53,
    "start_time": "2022-01-02T18:38:15.555Z"
   },
   {
    "duration": -57,
    "start_time": "2022-01-02T18:38:15.561Z"
   },
   {
    "duration": -60,
    "start_time": "2022-01-02T18:38:15.566Z"
   },
   {
    "duration": -64,
    "start_time": "2022-01-02T18:38:15.572Z"
   },
   {
    "duration": -67,
    "start_time": "2022-01-02T18:38:15.577Z"
   },
   {
    "duration": -70,
    "start_time": "2022-01-02T18:38:15.582Z"
   },
   {
    "duration": -94,
    "start_time": "2022-01-02T18:38:15.608Z"
   },
   {
    "duration": -101,
    "start_time": "2022-01-02T18:38:15.617Z"
   },
   {
    "duration": -105,
    "start_time": "2022-01-02T18:38:15.623Z"
   },
   {
    "duration": -109,
    "start_time": "2022-01-02T18:38:15.629Z"
   },
   {
    "duration": 5778,
    "start_time": "2022-01-02T18:38:57.475Z"
   },
   {
    "duration": 716,
    "start_time": "2022-01-02T18:39:19.889Z"
   },
   {
    "duration": 79,
    "start_time": "2022-01-02T18:39:20.608Z"
   },
   {
    "duration": 61,
    "start_time": "2022-01-02T18:39:20.690Z"
   },
   {
    "duration": 12,
    "start_time": "2022-01-02T18:39:20.754Z"
   },
   {
    "duration": 16,
    "start_time": "2022-01-02T18:39:20.768Z"
   },
   {
    "duration": 6,
    "start_time": "2022-01-02T18:39:20.786Z"
   },
   {
    "duration": 80,
    "start_time": "2022-01-02T18:39:20.794Z"
   },
   {
    "duration": 5794,
    "start_time": "2022-01-02T18:39:20.877Z"
   },
   {
    "duration": -30,
    "start_time": "2022-01-02T18:39:26.705Z"
   },
   {
    "duration": -34,
    "start_time": "2022-01-02T18:39:26.711Z"
   },
   {
    "duration": -37,
    "start_time": "2022-01-02T18:39:26.716Z"
   },
   {
    "duration": -40,
    "start_time": "2022-01-02T18:39:26.721Z"
   },
   {
    "duration": -43,
    "start_time": "2022-01-02T18:39:26.726Z"
   },
   {
    "duration": -47,
    "start_time": "2022-01-02T18:39:26.732Z"
   },
   {
    "duration": -48,
    "start_time": "2022-01-02T18:39:26.736Z"
   },
   {
    "duration": -49,
    "start_time": "2022-01-02T18:39:26.740Z"
   },
   {
    "duration": -52,
    "start_time": "2022-01-02T18:39:26.745Z"
   },
   {
    "duration": -54,
    "start_time": "2022-01-02T18:39:26.749Z"
   },
   {
    "duration": -57,
    "start_time": "2022-01-02T18:39:26.754Z"
   },
   {
    "duration": -59,
    "start_time": "2022-01-02T18:39:26.758Z"
   },
   {
    "duration": -84,
    "start_time": "2022-01-02T18:39:26.785Z"
   },
   {
    "duration": -87,
    "start_time": "2022-01-02T18:39:26.790Z"
   },
   {
    "duration": -91,
    "start_time": "2022-01-02T18:39:26.796Z"
   },
   {
    "duration": 3952,
    "start_time": "2022-01-02T18:43:07.957Z"
   },
   {
    "duration": 3526,
    "start_time": "2022-01-02T18:43:15.827Z"
   },
   {
    "duration": 697,
    "start_time": "2022-01-02T18:43:56.757Z"
   },
   {
    "duration": 78,
    "start_time": "2022-01-02T18:43:57.456Z"
   },
   {
    "duration": 46,
    "start_time": "2022-01-02T18:43:57.538Z"
   },
   {
    "duration": 38,
    "start_time": "2022-01-02T18:43:57.586Z"
   },
   {
    "duration": 16,
    "start_time": "2022-01-02T18:43:57.627Z"
   },
   {
    "duration": 7,
    "start_time": "2022-01-02T18:43:57.645Z"
   },
   {
    "duration": 83,
    "start_time": "2022-01-02T18:43:57.654Z"
   },
   {
    "duration": 13,
    "start_time": "2022-01-02T18:43:57.741Z"
   },
   {
    "duration": 7,
    "start_time": "2022-01-02T18:43:57.756Z"
   },
   {
    "duration": 385,
    "start_time": "2022-01-02T18:43:57.765Z"
   },
   {
    "duration": -32,
    "start_time": "2022-01-02T18:43:58.185Z"
   },
   {
    "duration": -41,
    "start_time": "2022-01-02T18:43:58.196Z"
   },
   {
    "duration": -45,
    "start_time": "2022-01-02T18:43:58.202Z"
   },
   {
    "duration": -49,
    "start_time": "2022-01-02T18:43:58.207Z"
   },
   {
    "duration": -54,
    "start_time": "2022-01-02T18:43:58.214Z"
   },
   {
    "duration": -57,
    "start_time": "2022-01-02T18:43:58.219Z"
   },
   {
    "duration": -61,
    "start_time": "2022-01-02T18:43:58.224Z"
   },
   {
    "duration": -65,
    "start_time": "2022-01-02T18:43:58.230Z"
   },
   {
    "duration": -69,
    "start_time": "2022-01-02T18:43:58.235Z"
   },
   {
    "duration": -72,
    "start_time": "2022-01-02T18:43:58.240Z"
   },
   {
    "duration": -77,
    "start_time": "2022-01-02T18:43:58.246Z"
   },
   {
    "duration": -80,
    "start_time": "2022-01-02T18:43:58.251Z"
   },
   {
    "duration": -83,
    "start_time": "2022-01-02T18:43:58.256Z"
   },
   {
    "duration": 288,
    "start_time": "2022-01-02T18:47:11.050Z"
   },
   {
    "duration": 304,
    "start_time": "2022-01-02T18:50:04.528Z"
   },
   {
    "duration": 305,
    "start_time": "2022-01-02T18:52:58.773Z"
   },
   {
    "duration": 692,
    "start_time": "2022-01-02T18:53:14.581Z"
   },
   {
    "duration": 87,
    "start_time": "2022-01-02T18:53:15.275Z"
   },
   {
    "duration": 45,
    "start_time": "2022-01-02T18:53:15.365Z"
   },
   {
    "duration": 12,
    "start_time": "2022-01-02T18:53:15.424Z"
   },
   {
    "duration": 15,
    "start_time": "2022-01-02T18:53:15.439Z"
   },
   {
    "duration": 8,
    "start_time": "2022-01-02T18:53:15.457Z"
   },
   {
    "duration": 88,
    "start_time": "2022-01-02T18:53:15.467Z"
   },
   {
    "duration": 369,
    "start_time": "2022-01-02T18:53:15.559Z"
   },
   {
    "duration": -7,
    "start_time": "2022-01-02T18:53:15.937Z"
   },
   {
    "duration": -18,
    "start_time": "2022-01-02T18:53:15.950Z"
   },
   {
    "duration": -22,
    "start_time": "2022-01-02T18:53:15.955Z"
   },
   {
    "duration": -25,
    "start_time": "2022-01-02T18:53:15.960Z"
   },
   {
    "duration": -31,
    "start_time": "2022-01-02T18:53:15.967Z"
   },
   {
    "duration": -33,
    "start_time": "2022-01-02T18:53:15.971Z"
   },
   {
    "duration": -38,
    "start_time": "2022-01-02T18:53:15.977Z"
   },
   {
    "duration": -42,
    "start_time": "2022-01-02T18:53:15.983Z"
   },
   {
    "duration": -46,
    "start_time": "2022-01-02T18:53:15.988Z"
   },
   {
    "duration": -57,
    "start_time": "2022-01-02T18:53:16.001Z"
   },
   {
    "duration": -63,
    "start_time": "2022-01-02T18:53:16.008Z"
   },
   {
    "duration": -67,
    "start_time": "2022-01-02T18:53:16.014Z"
   },
   {
    "duration": -71,
    "start_time": "2022-01-02T18:53:16.019Z"
   },
   {
    "duration": -74,
    "start_time": "2022-01-02T18:53:16.024Z"
   },
   {
    "duration": -79,
    "start_time": "2022-01-02T18:53:16.030Z"
   },
   {
    "duration": 315,
    "start_time": "2022-01-02T18:53:40.232Z"
   },
   {
    "duration": 3814,
    "start_time": "2022-01-02T18:53:49.676Z"
   },
   {
    "duration": 22,
    "start_time": "2022-01-02T18:54:23.458Z"
   },
   {
    "duration": 294,
    "start_time": "2022-01-02T18:55:40.849Z"
   },
   {
    "duration": 7216,
    "start_time": "2022-01-02T18:55:58.662Z"
   },
   {
    "duration": 5779,
    "start_time": "2022-01-02T18:59:47.169Z"
   },
   {
    "duration": 701,
    "start_time": "2022-01-02T19:00:03.940Z"
   },
   {
    "duration": 79,
    "start_time": "2022-01-02T19:00:04.644Z"
   },
   {
    "duration": 46,
    "start_time": "2022-01-02T19:00:04.726Z"
   },
   {
    "duration": 10,
    "start_time": "2022-01-02T19:00:04.775Z"
   },
   {
    "duration": 43,
    "start_time": "2022-01-02T19:00:04.788Z"
   },
   {
    "duration": 8,
    "start_time": "2022-01-02T19:00:04.833Z"
   },
   {
    "duration": 52,
    "start_time": "2022-01-02T19:00:04.844Z"
   },
   {
    "duration": 5616,
    "start_time": "2022-01-02T19:00:04.900Z"
   },
   {
    "duration": -58,
    "start_time": "2022-01-02T19:00:10.579Z"
   },
   {
    "duration": -62,
    "start_time": "2022-01-02T19:00:10.585Z"
   },
   {
    "duration": -67,
    "start_time": "2022-01-02T19:00:10.592Z"
   },
   {
    "duration": -68,
    "start_time": "2022-01-02T19:00:10.596Z"
   },
   {
    "duration": -72,
    "start_time": "2022-01-02T19:00:10.602Z"
   },
   {
    "duration": -75,
    "start_time": "2022-01-02T19:00:10.607Z"
   },
   {
    "duration": -77,
    "start_time": "2022-01-02T19:00:10.612Z"
   },
   {
    "duration": -79,
    "start_time": "2022-01-02T19:00:10.616Z"
   },
   {
    "duration": -82,
    "start_time": "2022-01-02T19:00:10.621Z"
   },
   {
    "duration": -85,
    "start_time": "2022-01-02T19:00:10.626Z"
   },
   {
    "duration": -88,
    "start_time": "2022-01-02T19:00:10.631Z"
   },
   {
    "duration": -89,
    "start_time": "2022-01-02T19:00:10.635Z"
   },
   {
    "duration": -99,
    "start_time": "2022-01-02T19:00:10.647Z"
   },
   {
    "duration": -104,
    "start_time": "2022-01-02T19:00:10.654Z"
   },
   {
    "duration": -105,
    "start_time": "2022-01-02T19:00:10.658Z"
   },
   {
    "duration": 8739,
    "start_time": "2022-01-02T19:03:44.538Z"
   },
   {
    "duration": 28,
    "start_time": "2022-01-02T19:04:11.114Z"
   },
   {
    "duration": 46,
    "start_time": "2022-01-02T19:04:57.496Z"
   },
   {
    "duration": 50,
    "start_time": "2022-01-02T19:05:27.950Z"
   },
   {
    "duration": 81,
    "start_time": "2022-01-02T19:06:15.845Z"
   },
   {
    "duration": 19,
    "start_time": "2022-01-02T19:07:04.581Z"
   },
   {
    "duration": 21,
    "start_time": "2022-01-02T19:07:35.758Z"
   },
   {
    "duration": 19,
    "start_time": "2022-01-02T19:07:55.366Z"
   },
   {
    "duration": 736,
    "start_time": "2022-01-02T19:08:30.289Z"
   },
   {
    "duration": 87,
    "start_time": "2022-01-02T19:08:31.028Z"
   },
   {
    "duration": 52,
    "start_time": "2022-01-02T19:08:31.118Z"
   },
   {
    "duration": 11,
    "start_time": "2022-01-02T19:08:31.173Z"
   },
   {
    "duration": 40,
    "start_time": "2022-01-02T19:08:31.186Z"
   },
   {
    "duration": 6,
    "start_time": "2022-01-02T19:08:31.228Z"
   },
   {
    "duration": 61,
    "start_time": "2022-01-02T19:08:31.237Z"
   },
   {
    "duration": 120,
    "start_time": "2022-01-02T19:08:31.303Z"
   },
   {
    "duration": 8,
    "start_time": "2022-01-02T19:08:31.426Z"
   },
   {
    "duration": 14,
    "start_time": "2022-01-02T19:08:31.437Z"
   },
   {
    "duration": 22,
    "start_time": "2022-01-02T19:08:31.453Z"
   },
   {
    "duration": 82,
    "start_time": "2022-01-02T19:08:31.477Z"
   },
   {
    "duration": 10,
    "start_time": "2022-01-02T19:08:31.561Z"
   },
   {
    "duration": 6449,
    "start_time": "2022-01-02T19:08:31.574Z"
   },
   {
    "duration": 13,
    "start_time": "2022-01-02T19:08:38.026Z"
   },
   {
    "duration": 25,
    "start_time": "2022-01-02T19:08:38.041Z"
   },
   {
    "duration": 8,
    "start_time": "2022-01-02T19:08:38.068Z"
   },
   {
    "duration": 46,
    "start_time": "2022-01-02T19:08:38.078Z"
   },
   {
    "duration": 614,
    "start_time": "2022-01-02T19:08:38.126Z"
   },
   {
    "duration": 10,
    "start_time": "2022-01-02T19:08:38.743Z"
   },
   {
    "duration": 7,
    "start_time": "2022-01-02T19:08:38.756Z"
   },
   {
    "duration": 9,
    "start_time": "2022-01-02T19:08:38.766Z"
   },
   {
    "duration": 46,
    "start_time": "2022-01-02T19:08:38.779Z"
   },
   {
    "duration": 151,
    "start_time": "2022-01-02T19:12:55.933Z"
   },
   {
    "duration": 622,
    "start_time": "2022-01-02T19:13:03.645Z"
   },
   {
    "duration": 822,
    "start_time": "2022-01-03T12:33:08.182Z"
   },
   {
    "duration": 84,
    "start_time": "2022-01-03T12:33:09.007Z"
   },
   {
    "duration": 60,
    "start_time": "2022-01-03T12:33:09.093Z"
   },
   {
    "duration": 14,
    "start_time": "2022-01-03T12:33:09.156Z"
   },
   {
    "duration": 44,
    "start_time": "2022-01-03T12:33:09.173Z"
   },
   {
    "duration": 8,
    "start_time": "2022-01-03T12:33:09.220Z"
   },
   {
    "duration": 57,
    "start_time": "2022-01-03T12:33:09.231Z"
   },
   {
    "duration": 103,
    "start_time": "2022-01-03T12:33:09.318Z"
   },
   {
    "duration": 6,
    "start_time": "2022-01-03T12:33:09.425Z"
   },
   {
    "duration": 19,
    "start_time": "2022-01-03T12:33:09.433Z"
   },
   {
    "duration": 23,
    "start_time": "2022-01-03T12:33:09.455Z"
   },
   {
    "duration": 79,
    "start_time": "2022-01-03T12:33:09.480Z"
   },
   {
    "duration": 10,
    "start_time": "2022-01-03T12:33:09.562Z"
   },
   {
    "duration": 6112,
    "start_time": "2022-01-03T12:33:09.575Z"
   },
   {
    "duration": 28,
    "start_time": "2022-01-03T12:33:15.689Z"
   },
   {
    "duration": 29,
    "start_time": "2022-01-03T12:33:15.720Z"
   },
   {
    "duration": 11,
    "start_time": "2022-01-03T12:33:15.752Z"
   },
   {
    "duration": 51,
    "start_time": "2022-01-03T12:33:15.766Z"
   },
   {
    "duration": 633,
    "start_time": "2022-01-03T12:33:15.819Z"
   },
   {
    "duration": 12,
    "start_time": "2022-01-03T12:33:16.455Z"
   },
   {
    "duration": 10,
    "start_time": "2022-01-03T12:33:16.470Z"
   },
   {
    "duration": 39,
    "start_time": "2022-01-03T12:33:16.483Z"
   },
   {
    "duration": 10,
    "start_time": "2022-01-03T12:33:16.526Z"
   },
   {
    "duration": 385,
    "start_time": "2022-01-03T12:36:30.762Z"
   },
   {
    "duration": 6,
    "start_time": "2022-01-03T12:39:06.695Z"
   },
   {
    "duration": 6,
    "start_time": "2022-01-03T12:39:45.756Z"
   },
   {
    "duration": 15,
    "start_time": "2022-01-03T12:42:02.489Z"
   },
   {
    "duration": 22,
    "start_time": "2022-01-03T12:42:49.342Z"
   },
   {
    "duration": 16,
    "start_time": "2022-01-03T12:43:32.703Z"
   },
   {
    "duration": 15,
    "start_time": "2022-01-03T12:43:55.192Z"
   },
   {
    "duration": 18,
    "start_time": "2022-01-03T12:44:43.997Z"
   },
   {
    "duration": 29,
    "start_time": "2022-01-03T12:45:44.059Z"
   },
   {
    "duration": 17,
    "start_time": "2022-01-03T12:46:26.373Z"
   },
   {
    "duration": 864,
    "start_time": "2022-01-03T14:42:06.362Z"
   },
   {
    "duration": 88,
    "start_time": "2022-01-03T14:42:07.229Z"
   },
   {
    "duration": 62,
    "start_time": "2022-01-03T14:42:07.320Z"
   },
   {
    "duration": 12,
    "start_time": "2022-01-03T14:42:07.385Z"
   },
   {
    "duration": 16,
    "start_time": "2022-01-03T14:42:07.400Z"
   },
   {
    "duration": 7,
    "start_time": "2022-01-03T14:42:07.419Z"
   },
   {
    "duration": 57,
    "start_time": "2022-01-03T14:42:07.464Z"
   },
   {
    "duration": 119,
    "start_time": "2022-01-03T14:42:07.525Z"
   },
   {
    "duration": 16,
    "start_time": "2022-01-03T14:42:07.647Z"
   },
   {
    "duration": 11,
    "start_time": "2022-01-03T14:42:07.665Z"
   },
   {
    "duration": 33,
    "start_time": "2022-01-03T14:42:07.679Z"
   },
   {
    "duration": 81,
    "start_time": "2022-01-03T14:42:07.714Z"
   },
   {
    "duration": 10,
    "start_time": "2022-01-03T14:42:07.797Z"
   },
   {
    "duration": 7015,
    "start_time": "2022-01-03T14:42:07.810Z"
   },
   {
    "duration": 38,
    "start_time": "2022-01-03T14:42:14.828Z"
   },
   {
    "duration": 38,
    "start_time": "2022-01-03T14:42:14.868Z"
   },
   {
    "duration": 8,
    "start_time": "2022-01-03T14:42:14.909Z"
   },
   {
    "duration": 8,
    "start_time": "2022-01-03T14:42:14.920Z"
   },
   {
    "duration": 718,
    "start_time": "2022-01-03T14:42:14.930Z"
   },
   {
    "duration": 20,
    "start_time": "2022-01-03T14:42:15.651Z"
   },
   {
    "duration": 11,
    "start_time": "2022-01-03T14:42:15.674Z"
   },
   {
    "duration": 11,
    "start_time": "2022-01-03T14:48:19.574Z"
   },
   {
    "duration": 8,
    "start_time": "2022-01-03T14:48:31.550Z"
   },
   {
    "duration": 9,
    "start_time": "2022-01-03T14:48:37.043Z"
   },
   {
    "duration": 9,
    "start_time": "2022-01-03T14:49:54.745Z"
   },
   {
    "duration": 11,
    "start_time": "2022-01-03T14:50:54.678Z"
   },
   {
    "duration": 385,
    "start_time": "2022-01-03T14:51:09.472Z"
   },
   {
    "duration": 673,
    "start_time": "2022-01-03T14:51:23.723Z"
   },
   {
    "duration": 11,
    "start_time": "2022-01-03T14:51:29.266Z"
   },
   {
    "duration": 11,
    "start_time": "2022-01-03T14:53:04.022Z"
   },
   {
    "duration": 600,
    "start_time": "2022-01-03T14:53:27.012Z"
   },
   {
    "duration": 304,
    "start_time": "2022-01-03T14:53:36.789Z"
   },
   {
    "duration": 9,
    "start_time": "2022-01-03T14:53:47.172Z"
   },
   {
    "duration": 309,
    "start_time": "2022-01-03T14:54:09.041Z"
   },
   {
    "duration": 291,
    "start_time": "2022-01-03T14:55:20.499Z"
   },
   {
    "duration": 306,
    "start_time": "2022-01-03T14:55:28.490Z"
   },
   {
    "duration": 9,
    "start_time": "2022-01-03T14:58:07.522Z"
   },
   {
    "duration": 9,
    "start_time": "2022-01-03T14:58:30.755Z"
   },
   {
    "duration": 11,
    "start_time": "2022-01-03T14:58:40.280Z"
   },
   {
    "duration": 327,
    "start_time": "2022-01-03T14:58:53.430Z"
   },
   {
    "duration": 10,
    "start_time": "2022-01-03T14:59:48.390Z"
   },
   {
    "duration": 401,
    "start_time": "2022-01-03T15:07:44.088Z"
   },
   {
    "duration": 12,
    "start_time": "2022-01-03T15:08:22.804Z"
   },
   {
    "duration": 31,
    "start_time": "2022-01-03T15:09:40.696Z"
   },
   {
    "duration": 17,
    "start_time": "2022-01-03T15:09:59.633Z"
   },
   {
    "duration": 19,
    "start_time": "2022-01-03T15:11:53.417Z"
   },
   {
    "duration": 12,
    "start_time": "2022-01-03T15:13:10.978Z"
   },
   {
    "duration": 9,
    "start_time": "2022-01-03T15:26:54.874Z"
   },
   {
    "duration": 8,
    "start_time": "2022-01-03T15:27:04.706Z"
   },
   {
    "duration": 9,
    "start_time": "2022-01-03T15:27:21.999Z"
   },
   {
    "duration": 12,
    "start_time": "2022-01-03T15:27:31.628Z"
   },
   {
    "duration": 15,
    "start_time": "2022-01-03T15:32:09.169Z"
   },
   {
    "duration": 10,
    "start_time": "2022-01-03T15:32:26.669Z"
   },
   {
    "duration": 10,
    "start_time": "2022-01-03T15:32:37.106Z"
   },
   {
    "duration": 10,
    "start_time": "2022-01-03T15:32:44.375Z"
   },
   {
    "duration": 15,
    "start_time": "2022-01-03T15:32:52.047Z"
   },
   {
    "duration": 94,
    "start_time": "2022-01-03T15:33:56.608Z"
   },
   {
    "duration": 15,
    "start_time": "2022-01-03T15:34:00.941Z"
   },
   {
    "duration": 10,
    "start_time": "2022-01-03T15:34:17.541Z"
   },
   {
    "duration": 9,
    "start_time": "2022-01-03T15:34:23.742Z"
   },
   {
    "duration": 11,
    "start_time": "2022-01-03T15:34:30.116Z"
   },
   {
    "duration": 15,
    "start_time": "2022-01-03T15:34:37.002Z"
   },
   {
    "duration": 779,
    "start_time": "2022-01-03T15:35:11.039Z"
   },
   {
    "duration": 89,
    "start_time": "2022-01-03T15:35:11.821Z"
   },
   {
    "duration": 61,
    "start_time": "2022-01-03T15:35:11.913Z"
   },
   {
    "duration": 12,
    "start_time": "2022-01-03T15:35:11.976Z"
   },
   {
    "duration": 23,
    "start_time": "2022-01-03T15:35:11.990Z"
   },
   {
    "duration": 15,
    "start_time": "2022-01-03T15:35:12.016Z"
   },
   {
    "duration": 75,
    "start_time": "2022-01-03T15:35:12.034Z"
   },
   {
    "duration": 100,
    "start_time": "2022-01-03T15:35:12.113Z"
   },
   {
    "duration": 6,
    "start_time": "2022-01-03T15:35:12.216Z"
   },
   {
    "duration": 11,
    "start_time": "2022-01-03T15:35:12.224Z"
   },
   {
    "duration": 46,
    "start_time": "2022-01-03T15:35:12.237Z"
   },
   {
    "duration": 42,
    "start_time": "2022-01-03T15:35:12.285Z"
   },
   {
    "duration": 35,
    "start_time": "2022-01-03T15:35:12.330Z"
   },
   {
    "duration": 6013,
    "start_time": "2022-01-03T15:35:12.368Z"
   },
   {
    "duration": 14,
    "start_time": "2022-01-03T15:35:18.383Z"
   },
   {
    "duration": 26,
    "start_time": "2022-01-03T15:35:18.399Z"
   },
   {
    "duration": 37,
    "start_time": "2022-01-03T15:35:18.427Z"
   },
   {
    "duration": 8,
    "start_time": "2022-01-03T15:35:18.466Z"
   },
   {
    "duration": 644,
    "start_time": "2022-01-03T15:35:18.477Z"
   },
   {
    "duration": 20,
    "start_time": "2022-01-03T15:35:19.123Z"
   },
   {
    "duration": 28,
    "start_time": "2022-01-03T15:35:19.145Z"
   },
   {
    "duration": 19,
    "start_time": "2022-01-03T15:35:19.176Z"
   },
   {
    "duration": 19,
    "start_time": "2022-01-03T15:35:19.201Z"
   },
   {
    "duration": 11,
    "start_time": "2022-01-03T15:37:01.394Z"
   },
   {
    "duration": 9,
    "start_time": "2022-01-03T15:37:35.818Z"
   },
   {
    "duration": 16,
    "start_time": "2022-01-03T15:38:46.688Z"
   },
   {
    "duration": 802,
    "start_time": "2022-01-03T16:10:12.561Z"
   },
   {
    "duration": 89,
    "start_time": "2022-01-03T16:10:13.366Z"
   },
   {
    "duration": 60,
    "start_time": "2022-01-03T16:10:13.458Z"
   },
   {
    "duration": 13,
    "start_time": "2022-01-03T16:10:13.521Z"
   },
   {
    "duration": 43,
    "start_time": "2022-01-03T16:10:13.536Z"
   },
   {
    "duration": 15,
    "start_time": "2022-01-03T16:10:13.582Z"
   },
   {
    "duration": 76,
    "start_time": "2022-01-03T16:10:13.599Z"
   },
   {
    "duration": 104,
    "start_time": "2022-01-03T16:10:13.680Z"
   },
   {
    "duration": 6,
    "start_time": "2022-01-03T16:10:13.787Z"
   },
   {
    "duration": 36,
    "start_time": "2022-01-03T16:10:13.795Z"
   },
   {
    "duration": 22,
    "start_time": "2022-01-03T16:10:13.833Z"
   },
   {
    "duration": 50,
    "start_time": "2022-01-03T16:10:13.857Z"
   },
   {
    "duration": 9,
    "start_time": "2022-01-03T16:10:13.910Z"
   },
   {
    "duration": 6606,
    "start_time": "2022-01-03T16:10:13.922Z"
   },
   {
    "duration": 42,
    "start_time": "2022-01-03T16:10:20.531Z"
   },
   {
    "duration": 34,
    "start_time": "2022-01-03T16:10:20.576Z"
   },
   {
    "duration": 9,
    "start_time": "2022-01-03T16:10:20.613Z"
   },
   {
    "duration": 48,
    "start_time": "2022-01-03T16:10:20.624Z"
   },
   {
    "duration": 710,
    "start_time": "2022-01-03T16:10:20.674Z"
   },
   {
    "duration": 20,
    "start_time": "2022-01-03T16:10:21.387Z"
   },
   {
    "duration": 21,
    "start_time": "2022-01-03T16:10:21.409Z"
   },
   {
    "duration": 50,
    "start_time": "2022-01-03T16:10:21.433Z"
   },
   {
    "duration": 17,
    "start_time": "2022-01-03T16:10:21.488Z"
   }
  ],
  "kernelspec": {
   "display_name": "Python 3 (ipykernel)",
   "language": "python",
   "name": "python3"
  },
  "language_info": {
   "codemirror_mode": {
    "name": "ipython",
    "version": 3
   },
   "file_extension": ".py",
   "mimetype": "text/x-python",
   "name": "python",
   "nbconvert_exporter": "python",
   "pygments_lexer": "ipython3",
   "version": "3.10.0"
  },
  "toc": {
   "base_numbering": 1,
   "nav_menu": {},
   "number_sections": false,
   "sideBar": true,
   "skip_h1_title": false,
   "title_cell": "Table of Contents",
   "title_sidebar": "Contents",
   "toc_cell": false,
   "toc_position": {
    "height": "calc(100% - 180px)",
    "left": "10px",
    "top": "150px",
    "width": "255.594px"
   },
   "toc_section_display": true,
   "toc_window_display": true
  }
 },
 "nbformat": 4,
 "nbformat_minor": 2
}
